{
 "cells": [
  {
   "cell_type": "code",
   "execution_count": 10,
   "metadata": {
    "collapsed": false
   },
   "outputs": [
    {
     "data": {
      "text/plain": [
       "23131.25"
      ]
     },
     "execution_count": 10,
     "metadata": {},
     "output_type": "execute_result"
    }
   ],
   "source": [
    "(7921+5184+8836+4761/float(4)"
   ]
  },
  {
   "cell_type": "code",
   "execution_count": 11,
   "metadata": {
    "collapsed": false
   },
   "outputs": [
    {
     "data": {
      "text/plain": [
       "-0.3660122699386503"
      ]
     },
     "execution_count": 11,
     "metadata": {},
     "output_type": "execute_result"
    }
   ],
   "source": [
    "(5184 - (7921+5184+8836+4761)/float(4)) / float(8836 - 4761) "
   ]
  },
  {
   "cell_type": "code",
   "execution_count": 2,
   "metadata": {
    "collapsed": true
   },
   "outputs": [],
   "source": [
    "import argparse\n",
    "import base64\n",
    "import httplib2\n",
    "\n",
    "from googleapiclient import discovery\n",
    "from oauth2client.client import GoogleCredentials"
   ]
  },
  {
   "cell_type": "code",
   "execution_count": null,
   "metadata": {
    "collapsed": true
   },
   "outputs": [],
   "source": [
    "DISCOVERY_URL = 'cdcc3f61897d6d8acdf654ea32d2fe2b2660745c.googleapis.com/$discovery/rest'\n",
    "credentials = GoogleCredentials.get_application_default()\n",
    "service = discovery.build('vision', 'v1', credentials=credentials, discoveryServiceUrl=DISCOVERY_URL)\n",
    "\n"
   ]
  },
  {
   "cell_type": "code",
   "execution_count": 3,
   "metadata": {
    "collapsed": true
   },
   "outputs": [],
   "source": [
    "def encode_image(image):\n",
    "    image_content = image.read()\n",
    "    return base64.b64encode(image_content)"
   ]
  },
  {
   "cell_type": "code",
   "execution_count": 8,
   "metadata": {
    "collapsed": false
   },
   "outputs": [],
   "source": [
    "with open('receit.jpg', 'rb') as receit:\n",
    "    my_image = encode_image(receit)"
   ]
  },
  {
   "cell_type": "code",
   "execution_count": null,
   "metadata": {
    "collapsed": true
   },
   "outputs": [],
   "source": [
    "{\n",
    "  \"requests\":[\n",
    "    {\n",
    "      \"image\":{\n",
    "        \"content\":my_image\n",
    "      },\n",
    "      \"features\":[{\n",
    "          \"type\":\"FACE_DETECTION\",\n",
    "          \"maxResults\":10\n",
    "        }]\n",
    "    }\n",
    "  ]\n",
    "}\n"
   ]
  },
  {
   "cell_type": "code",
   "execution_count": 1,
   "metadata": {
    "collapsed": true
   },
   "outputs": [],
   "source": [
    "import argparse\n",
    "import base64\n",
    "import httplib2\n",
    "\n",
    "from googleapiclient import discovery\n",
    "from oauth2client.client import GoogleCredentials\n",
    "\n",
    "DISCOVERY_URL='https://{api}.googleapis.com/$discovery/rest?version={apiVersion}'\n",
    "\n",
    "\n",
    "def main(photo_file):\n",
    "    \"\"\"Run a label request on a single image\"\"\"\n",
    "\n",
    "    credentials = GoogleCredentials.get_application_default()\n",
    "    service = discovery.build('vision', 'v1', credentials=credentials,\n",
    "                              discoveryServiceUrl=DISCOVERY_URL)\n",
    "\n",
    "    with open(photo_file, 'rb') as image:\n",
    "        image_content = base64.b64encode(image.read())\n",
    "        service_request = service.images().annotate(body={\n",
    "            'requests': [{\n",
    "                'image': {\n",
    "                    'content': image_content.decode('UTF-8')\n",
    "                },\n",
    "                'features': [{\n",
    "                    'type': 'LABEL_DETECTION',\n",
    "                    'maxResults': 1\n",
    "                }]\n",
    "            }]\n",
    "        })\n",
    "        response = service_request.execute()\n",
    "        label = response['responses'][0]['labelAnnotations'][0]['description']\n",
    "        print('Found label: %s for %s' % (label, photo_file))\n",
    "        return 0\n",
    "\n",
    "if __name__ == '__main__':\n",
    "    parser = argparse.ArgumentParser()\n",
    "    parser.add_argument('image_file', help='The image you\\'d like to label.')\n",
    "    args = parser.parse_args()\n",
    "    main(args.image_file)"
   ]
  }
 ],
 "metadata": {
  "kernelspec": {
   "display_name": "Python 2",
   "language": "python",
   "name": "python2"
  },
  "language_info": {
   "codemirror_mode": {
    "name": "ipython",
    "version": 2
   },
   "file_extension": ".py",
   "mimetype": "text/x-python",
   "name": "python",
   "nbconvert_exporter": "python",
   "pygments_lexer": "ipython2",
   "version": "2.7.13"
  }
 },
 "nbformat": 4,
 "nbformat_minor": 2
}
