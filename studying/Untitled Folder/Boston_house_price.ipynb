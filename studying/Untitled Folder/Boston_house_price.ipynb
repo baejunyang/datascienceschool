{
 "cells": [
  {
   "cell_type": "code",
   "execution_count": 3,
   "metadata": {
    "collapsed": false
   },
   "outputs": [],
   "source": [
    "from sklearn.datasets import load_boston\n",
    "import statsmodels.api as sm"
   ]
  },
  {
   "cell_type": "code",
   "execution_count": 7,
   "metadata": {
    "collapsed": false
   },
   "outputs": [
    {
     "data": {
      "text/html": [
       "<div>\n",
       "<table border=\"1\" class=\"dataframe\">\n",
       "  <thead>\n",
       "    <tr style=\"text-align: right;\">\n",
       "      <th></th>\n",
       "      <th>const</th>\n",
       "      <th>CRIM</th>\n",
       "      <th>ZN</th>\n",
       "      <th>INDUS</th>\n",
       "      <th>CHAS</th>\n",
       "      <th>NOX</th>\n",
       "      <th>RM</th>\n",
       "      <th>AGE</th>\n",
       "      <th>DIS</th>\n",
       "      <th>RAD</th>\n",
       "      <th>TAX</th>\n",
       "      <th>PTRATIO</th>\n",
       "      <th>B</th>\n",
       "      <th>LSTAT</th>\n",
       "      <th>MEDV</th>\n",
       "    </tr>\n",
       "  </thead>\n",
       "  <tbody>\n",
       "    <tr>\n",
       "      <th>0</th>\n",
       "      <td>1</td>\n",
       "      <td>0.00632</td>\n",
       "      <td>18.0</td>\n",
       "      <td>2.31</td>\n",
       "      <td>0.0</td>\n",
       "      <td>0.538</td>\n",
       "      <td>6.575</td>\n",
       "      <td>65.2</td>\n",
       "      <td>4.09</td>\n",
       "      <td>1.0</td>\n",
       "      <td>296.0</td>\n",
       "      <td>15.3</td>\n",
       "      <td>396.9</td>\n",
       "      <td>4.98</td>\n",
       "      <td>24.0</td>\n",
       "    </tr>\n",
       "  </tbody>\n",
       "</table>\n",
       "</div>"
      ],
      "text/plain": [
       "   const     CRIM    ZN  INDUS  CHAS    NOX     RM   AGE   DIS  RAD    TAX  \\\n",
       "0      1  0.00632  18.0   2.31   0.0  0.538  6.575  65.2  4.09  1.0  296.0   \n",
       "\n",
       "   PTRATIO      B  LSTAT  MEDV  \n",
       "0     15.3  396.9   4.98  24.0  "
      ]
     },
     "execution_count": 7,
     "metadata": {},
     "output_type": "execute_result"
    }
   ],
   "source": [
    "boston = load_boston()\n",
    "dfX = pd.DataFrame(boston.data, columns=boston.feature_names)\n",
    "dfy = pd.DataFrame(boston.target, columns=[\"MEDV\"])\n",
    "df0 = pd.concat([dfX, dfy], axis=1)\n",
    "df = sm.add_constant(df0)\n",
    "df.head(1)"
   ]
  },
  {
   "cell_type": "code",
   "execution_count": 14,
   "metadata": {
    "collapsed": true
   },
   "outputs": [
    {
     "name": "stdout",
     "output_type": "stream",
     "text": [
      "                            OLS Regression Results                            \n",
      "==============================================================================\n",
      "Dep. Variable:                   MEDV   R-squared:                       0.959\n",
      "Model:                            OLS   Adj. R-squared:                  0.958\n",
      "Method:                 Least Squares   F-statistic:                     891.1\n",
      "Date:                Fri, 07 Apr 2017   Prob (F-statistic):               0.00\n",
      "Time:                        22:08:41   Log-Likelihood:                -1523.8\n",
      "No. Observations:                 506   AIC:                             3074.\n",
      "Df Residuals:                     493   BIC:                             3129.\n",
      "Df Model:                          13                                         \n",
      "Covariance Type:            nonrobust                                         \n",
      "==============================================================================\n",
      "                 coef    std err          t      P>|t|      [95.0% Conf. Int.]\n",
      "------------------------------------------------------------------------------\n",
      "CRIM          -0.0916      0.034     -2.675      0.008        -0.159    -0.024\n",
      "ZN             0.0487      0.014      3.379      0.001         0.020     0.077\n",
      "INDUS         -0.0038      0.064     -0.059      0.953        -0.130     0.123\n",
      "CHAS           2.8564      0.904      3.160      0.002         1.080     4.633\n",
      "NOX           -2.8808      3.359     -0.858      0.392        -9.481     3.720\n",
      "RM             5.9252      0.309     19.168      0.000         5.318     6.533\n",
      "AGE           -0.0072      0.014     -0.523      0.601        -0.034     0.020\n",
      "DIS           -0.9680      0.196     -4.947      0.000        -1.352    -0.584\n",
      "RAD            0.1704      0.067      2.554      0.011         0.039     0.302\n",
      "TAX           -0.0094      0.004     -2.393      0.017        -0.017    -0.002\n",
      "PTRATIO       -0.3924      0.110     -3.571      0.000        -0.608    -0.177\n",
      "B              0.0150      0.003      5.561      0.000         0.010     0.020\n",
      "LSTAT         -0.4170      0.051     -8.214      0.000        -0.517    -0.317\n",
      "==============================================================================\n",
      "Omnibus:                      204.050   Durbin-Watson:                   0.999\n",
      "Prob(Omnibus):                  0.000   Jarque-Bera (JB):             1372.527\n",
      "Skew:                           1.609   Prob(JB):                    9.11e-299\n",
      "Kurtosis:                      10.399   Cond. No.                     8.50e+03\n",
      "==============================================================================\n",
      "\n",
      "Warnings:\n",
      "[1] Standard Errors assume that the covariance matrix of the errors is correctly specified.\n",
      "[2] The condition number is large, 8.5e+03. This might indicate that there are\n",
      "strong multicollinearity or other numerical problems.\n"
     ]
    }
   ],
   "source": [
    "#상수항 없는 회귀분석\n",
    "model0 = sm.OLS(df0.ix[:,-1], df0.ix[:,:-1])\n",
    "result0 = model0.fit()\n",
    "print result0.summary()"
   ]
  },
  {
   "cell_type": "code",
   "execution_count": 13,
   "metadata": {
    "collapsed": true
   },
   "outputs": [
    {
     "name": "stdout",
     "output_type": "stream",
     "text": [
      "                            OLS Regression Results                            \n",
      "==============================================================================\n",
      "Dep. Variable:                   MEDV   R-squared:                       0.741\n",
      "Model:                            OLS   Adj. R-squared:                  0.734\n",
      "Method:                 Least Squares   F-statistic:                     108.1\n",
      "Date:                Fri, 07 Apr 2017   Prob (F-statistic):          6.95e-135\n",
      "Time:                        22:07:22   Log-Likelihood:                -1498.8\n",
      "No. Observations:                 506   AIC:                             3026.\n",
      "Df Residuals:                     492   BIC:                             3085.\n",
      "Df Model:                          13                                         \n",
      "Covariance Type:            nonrobust                                         \n",
      "==============================================================================\n",
      "                 coef    std err          t      P>|t|      [95.0% Conf. Int.]\n",
      "------------------------------------------------------------------------------\n",
      "const         36.4911      5.104      7.149      0.000        26.462    46.520\n",
      "CRIM          -0.1072      0.033     -3.276      0.001        -0.171    -0.043\n",
      "ZN             0.0464      0.014      3.380      0.001         0.019     0.073\n",
      "INDUS          0.0209      0.061      0.339      0.735        -0.100     0.142\n",
      "CHAS           2.6886      0.862      3.120      0.002         0.996     4.381\n",
      "NOX          -17.7958      3.821     -4.658      0.000       -25.302   -10.289\n",
      "RM             3.8048      0.418      9.102      0.000         2.983     4.626\n",
      "AGE            0.0008      0.013      0.057      0.955        -0.025     0.027\n",
      "DIS           -1.4758      0.199     -7.398      0.000        -1.868    -1.084\n",
      "RAD            0.3057      0.066      4.608      0.000         0.175     0.436\n",
      "TAX           -0.0123      0.004     -3.278      0.001        -0.020    -0.005\n",
      "PTRATIO       -0.9535      0.131     -7.287      0.000        -1.211    -0.696\n",
      "B              0.0094      0.003      3.500      0.001         0.004     0.015\n",
      "LSTAT         -0.5255      0.051    -10.366      0.000        -0.625    -0.426\n",
      "==============================================================================\n",
      "Omnibus:                      178.029   Durbin-Watson:                   1.078\n",
      "Prob(Omnibus):                  0.000   Jarque-Bera (JB):              782.015\n",
      "Skew:                           1.521   Prob(JB):                    1.54e-170\n",
      "Kurtosis:                       8.276   Cond. No.                     1.51e+04\n",
      "==============================================================================\n",
      "\n",
      "Warnings:\n",
      "[1] Standard Errors assume that the covariance matrix of the errors is correctly specified.\n",
      "[2] The condition number is large, 1.51e+04. This might indicate that there are\n",
      "strong multicollinearity or other numerical problems.\n"
     ]
    }
   ],
   "source": [
    "#상수항 있는 회귀분석\n",
    "model = sm.OLS(df.ix[:,-1], df.ix[:,:-1])\n",
    "result = model.fit()\n",
    "print result.summary()"
   ]
  },
  {
   "cell_type": "code",
   "execution_count": null,
   "metadata": {
    "collapsed": false
   },
   "outputs": [],
   "source": [
    "influence = result.get_influence()\n",
    "hat = influence.hat_matrix_diag\n",
    "resid = result.resid"
   ]
  },
  {
   "cell_type": "code",
   "execution_count": 64,
   "metadata": {
    "collapsed": false
   },
   "outputs": [
    {
     "data": {
      "text/plain": [
       "array([ 64, 141, 148, 161, 162, 163, 166, 186, 195, 204, 214, 225, 228,\n",
       "       233, 253, 262, 267, 364, 365, 367, 368, 369, 370, 371, 372, 374,\n",
       "       375, 380, 412, 414])"
      ]
     },
     "execution_count": 64,
     "metadata": {},
     "output_type": "execute_result"
    }
   ],
   "source": [
    "cook0, p_val = influence.cooks_distance\n",
    "idx = np.where(cook0 > 4/float(len(df['MEDV'])-2))[0]\n",
    "idx"
   ]
  },
  {
   "cell_type": "code",
   "execution_count": 67,
   "metadata": {
    "collapsed": false
   },
   "outputs": [],
   "source": [
    "df_outlier = df.drop(idx, axis=0)"
   ]
  },
  {
   "cell_type": "code",
   "execution_count": 69,
   "metadata": {
    "collapsed": true
   },
   "outputs": [
    {
     "name": "stdout",
     "output_type": "stream",
     "text": [
      "                            OLS Regression Results                            \n",
      "==============================================================================\n",
      "Dep. Variable:                   MEDV   R-squared:                       0.831\n",
      "Model:                            OLS   Adj. R-squared:                  0.827\n",
      "Method:                 Least Squares   F-statistic:                     175.4\n",
      "Date:                Fri, 07 Apr 2017   Prob (F-statistic):          3.07e-169\n",
      "Time:                        23:16:21   Log-Likelihood:                -1226.7\n",
      "No. Observations:                 476   AIC:                             2481.\n",
      "Df Residuals:                     462   BIC:                             2540.\n",
      "Df Model:                          13                                         \n",
      "Covariance Type:            nonrobust                                         \n",
      "==============================================================================\n",
      "                 coef    std err          t      P>|t|      [95.0% Conf. Int.]\n",
      "------------------------------------------------------------------------------\n",
      "const         20.9186      4.002      5.227      0.000        13.054    28.783\n",
      "CRIM          -0.0892      0.027     -3.246      0.001        -0.143    -0.035\n",
      "ZN             0.0360      0.010      3.660      0.000         0.017     0.055\n",
      "INDUS         -0.0184      0.043     -0.427      0.670        -0.103     0.066\n",
      "CHAS           1.3678      0.639      2.140      0.033         0.112     2.624\n",
      "NOX          -10.5885      2.700     -3.921      0.000       -15.895    -5.282\n",
      "RM             4.8245      0.365     13.225      0.000         4.108     5.541\n",
      "AGE           -0.0215      0.010     -2.212      0.027        -0.041    -0.002\n",
      "DIS           -1.1260      0.144     -7.840      0.000        -1.408    -0.844\n",
      "RAD            0.1987      0.047      4.244      0.000         0.107     0.291\n",
      "TAX           -0.0119      0.003     -4.599      0.000        -0.017    -0.007\n",
      "PTRATIO       -0.7661      0.091     -8.381      0.000        -0.946    -0.586\n",
      "B              0.0108      0.002      5.644      0.000         0.007     0.015\n",
      "LSTAT         -0.3578      0.041     -8.711      0.000        -0.439    -0.277\n",
      "==============================================================================\n",
      "Omnibus:                       24.076   Durbin-Watson:                   1.127\n",
      "Prob(Omnibus):                  0.000   Jarque-Bera (JB):               28.702\n",
      "Skew:                           0.481   Prob(JB):                     5.85e-07\n",
      "Kurtosis:                       3.722   Cond. No.                     1.64e+04\n",
      "==============================================================================\n",
      "\n",
      "Warnings:\n",
      "[1] Standard Errors assume that the covariance matrix of the errors is correctly specified.\n",
      "[2] The condition number is large, 1.64e+04. This might indicate that there are\n",
      "strong multicollinearity or other numerical problems.\n"
     ]
    }
   ],
   "source": [
    "model_outlier = sm.OLS(df_outlier.ix[:,-1], df_outlier.ix[:,:-1])\n",
    "result_outlier = model_outlier.fit()\n",
    "print result_outlier.summary()"
   ]
  }
 ],
 "metadata": {
  "kernelspec": {
   "display_name": "Python 2",
   "language": "python",
   "name": "python2"
  },
  "language_info": {
   "codemirror_mode": {
    "name": "ipython",
    "version": 2
   },
   "file_extension": ".py",
   "mimetype": "text/x-python",
   "name": "python",
   "nbconvert_exporter": "python",
   "pygments_lexer": "ipython2",
   "version": "2.7.13"
  }
 },
 "nbformat": 4,
 "nbformat_minor": 2
}
