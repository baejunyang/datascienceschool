{
 "cells": [
  {
   "cell_type": "code",
   "execution_count": 33,
   "metadata": {
    "collapsed": true
   },
   "outputs": [],
   "source": [
    "from sklearn.preprocessing import LabelEncoder\n",
    "from sklearn.discriminant_analysis import QuadraticDiscriminantAnalysis, LinearDiscriminantAnalysis\n",
    "from sklearn.metrics import classification_report, confusion_matrix\n",
    "from sklearn.naive_bayes import GaussianNB, MultinomialNB, BernoulliNB\n",
    "from sklearn.tree import DecisionTreeClassifier\n",
    "from sklearn.linear_model import SGDClassifier"
   ]
  },
  {
   "cell_type": "markdown",
   "metadata": {},
   "source": [
    "## Preprocess"
   ]
  },
  {
   "cell_type": "code",
   "execution_count": 56,
   "metadata": {
    "collapsed": false
   },
   "outputs": [],
   "source": [
    "train = pd.read_csv('../files/titanic_train.csv')\n",
    "test = pd.read_csv('../files/titanic_test.csv')\n",
    "\n",
    "train.drop(['Name','Ticket', 'Cabin'], axis=1, inplace=True)\n",
    "\n",
    "train = pd.get_dummies(train)\n",
    "\n",
    "train =train.fillna(train.mean())\n",
    "\n",
    "Y = train['Survived'].values\n",
    "X = train.drop(['Survived', 'PassengerId'], axis=1)"
   ]
  },
  {
   "cell_type": "markdown",
   "metadata": {},
   "source": [
    "## 2 QDA, LDA"
   ]
  },
  {
   "cell_type": "code",
   "execution_count": 26,
   "metadata": {
    "collapsed": true
   },
   "outputs": [],
   "source": [
    "def qda_titanic(X, y):\n",
    "    qda = QuadraticDiscriminantAnalysis(store_covariances=True).fit(X, y)\n",
    "    y_pred = qda.predict(X)\n",
    "    labels = ['dead', 'alive']\n",
    "\n",
    "    return classification_report(y, y_pred, target_names=labels), confusion_matrix(y, y_pred)"
   ]
  },
  {
   "cell_type": "code",
   "execution_count": 27,
   "metadata": {
    "collapsed": true
   },
   "outputs": [],
   "source": [
    "def lda_titanic(X, y):\n",
    "    lda = LinearDiscriminantAnalysis(n_components=2, store_covariance=True).fit(X,y)\n",
    "    y_pred = lda.predict(X)\n",
    "    labels = ['dead','alive']\n",
    "    \n",
    "    return classification_report(y, y_pred, target_names=labels), confusion_matrix(y, y_pred)    "
   ]
  },
  {
   "cell_type": "markdown",
   "metadata": {},
   "source": [
    "## 3 Naive bayes"
   ]
  },
  {
   "cell_type": "code",
   "execution_count": 28,
   "metadata": {
    "collapsed": true
   },
   "outputs": [],
   "source": [
    "def gaussian_nb(X,y):\n",
    "    clf = GaussianNB().fit(X,y)\n",
    "    y_pred = clf.predict(X)\n",
    "    labels = ['dead','alive']\n",
    "    \n",
    "    return classification_report(y, y_pred, target_names=labels), confusion_matrix(y, y_pred)        "
   ]
  },
  {
   "cell_type": "code",
   "execution_count": 29,
   "metadata": {
    "collapsed": true
   },
   "outputs": [],
   "source": [
    "def multinomial_nb(X,y):\n",
    "    clf = MultinomialNB().fit(X,y)\n",
    "    y_pred = clf.predict(X)\n",
    "    labels = ['dead','alive']\n",
    "    \n",
    "    return classification_report(y, y_pred, target_names=labels), confusion_matrix(y, y_pred)        "
   ]
  },
  {
   "cell_type": "code",
   "execution_count": 30,
   "metadata": {
    "collapsed": true
   },
   "outputs": [],
   "source": [
    "def bernoulli_nb(X,y):\n",
    "    clf = BernoulliNB().fit(X,y)\n",
    "    y_pred = clf.predict(X)\n",
    "    labels = ['dead','alive']\n",
    "    \n",
    "    return classification_report(y, y_pred, target_names=labels), confusion_matrix(y, y_pred)        "
   ]
  },
  {
   "cell_type": "markdown",
   "metadata": {},
   "source": [
    "## 4 Decision tree"
   ]
  },
  {
   "cell_type": "code",
   "execution_count": 43,
   "metadata": {
    "collapsed": true
   },
   "outputs": [],
   "source": [
    "def tree_titanic(X,y,depth=5):\n",
    "    tree = DecisionTreeClassifier(criterion='entropy', max_depth=depth, random_state=0).fit(X,y)\n",
    "    y_pred = tree.predict(X)\n",
    "    labels = ['dead','alive']\n",
    "    \n",
    "    return classification_report(y, y_pred, target_names=labels), confusion_matrix(y, y_pred)        "
   ]
  },
  {
   "cell_type": "markdown",
   "metadata": {},
   "source": [
    "## 5 퍼셉트론 & 서포트벡터머신"
   ]
  },
  {
   "cell_type": "code",
   "execution_count": 62,
   "metadata": {
    "collapsed": false
   },
   "outputs": [],
   "source": [
    "from sklearn.grid_search import GridSearchCV\n",
    "from sklearn.cross_validation import KFold, train_test_split\n",
    "from sklearn.metrics import make_scorer, mean_squared_error\n",
    "from sklearn.ensemble import RandomForestClassifier, GradientBoostingRegressor, ExtraTreesRegressor\n",
    "from sklearn.linear_model import Ridge, RidgeCV, ElasticNet, LassoCV, LassoLarsCV, Lasso\n",
    "from sklearn.svm import SVR"
   ]
  },
  {
   "cell_type": "code",
   "execution_count": 65,
   "metadata": {
    "collapsed": true
   },
   "outputs": [],
   "source": [
    "def random_forest(X_train, y_train):\n",
    "    rfr = RandomForestClassifier(random_state=0)\n",
    "    param_grid = {'n_estimators':[500,600,700], 'max_features':[2,4,6,8], 'max_depth':[3, 5, 7, 9]}\n",
    "    model = GridSearchCV(estimator=rfr, param_grid=param_grid, n_jobs=1, cv=4, scoring='accuracy')\n",
    "    model.fit(X_train, y_train)\n",
    "    \n",
    "    print 'best score:'\n",
    "    print model.best_score_\n",
    "    print\n",
    "    print 'best params:'\n",
    "    print model.best_params_\n",
    "    \n",
    "def gradient_boosting(X_train, X_test):\n",
    "    gbr = GradientBoostingRegressor(random_state=0)\n",
    "    param_grid = {'n_estimators': [500],'max_features': [10,15],'max_depth': [6,8,10],'learning_rate': [0.05,0.1,0.15],'subsample': [0.8]}\n",
    "    model = GridSearchCV(estimator=gbr, param_grid=param_grid, n_jobs=1, cv=10, scoring=RMSE)\n",
    "    model.fit(X_train, y_train)\n",
    "    print 'best score:'\n",
    "    print model.best_score_\n",
    "    print\n",
    "    print 'best params:'\n",
    "    print model.best_params_\n",
    "\n",
    "def extra_trees(X_train, y_train):\n",
    "    etr=ExtraTreesRegressor(random_state=0)\n",
    "    param_grid = {'n_estimators': [500,600,700], 'max_features': [10,15,20]}\n",
    "    model = GridSearchCV(estimator=etr, param_grid=param_grid, n_jobs=2, cv=4, scoring=RMSE)\n",
    "    model.fit(X_train, y_train)\n",
    "    print 'best score:'\n",
    "    print model.best_score_\n",
    "    print\n",
    "    print 'best params:'\n",
    "    print model.best_params_\n",
    "\n",
    "def elastic_net(X_train, X_test):\n",
    "    eln = ElasticNet(random_state=0)\n",
    "    param_grid = {'l1_ratio': [0.3,0.4,0.5, 0.7], 'alpha':[0.0005, 0.001 ,0.01 ,0.1, 0.5, 1]}\n",
    "    model = GridSearchCV(estimator=eln, param_grid=param_grid, cv=5, scoring=RMSE)\n",
    "    model.fit(X_train, y_train)\n",
    "    print model.best_score_\n",
    "    print model.best_params_\n",
    "\n",
    "def svr(X_train, X_test):\n",
    "    svr = SVR('linear')\n",
    "    param_grid = {'C':[0.1, 0.5, 1, 2, 5] }\n",
    "    model = GridSearchCV(estimator=svr, param_grid=param_grid, cv=5, n_jobs=1, scoring=RMSE)\n",
    "    model.fit(X_train, y_train)\n",
    "    print model.best_score_\n",
    "    print model.best_params_\n",
    "    \n",
    "def lasso(X_train, X_test):\n",
    "    lasso = Lasso(random_state=0)\n",
    "    model = GridSearchCV(estimator=lasso, param_grid={'alpha':[0.0001, 0.0005, 0.001, 0.005, 0.01, 0.05]}, cv=5, scoring=RMSE)\n",
    "    moel.fit(X_train, X_test)\n",
    "    print model.best_score_\n",
    "    print model.best_params_"
   ]
  },
  {
   "cell_type": "code",
   "execution_count": 66,
   "metadata": {
    "collapsed": false
   },
   "outputs": [
    {
     "name": "stdout",
     "output_type": "stream",
     "text": [
      "best score:\n",
      "0.838383838384\n",
      "\n",
      "best params:\n",
      "{'max_features': 8, 'n_estimators': 500, 'max_depth': 9}\n"
     ]
    }
   ],
   "source": [
    "random_forest(X,Y)"
   ]
  },
  {
   "cell_type": "code",
   "execution_count": 35,
   "metadata": {
    "collapsed": false
   },
   "outputs": [
    {
     "name": "stdout",
     "output_type": "stream",
     "text": [
      "             precision    recall  f1-score   support\n",
      "\n",
      "       dead       0.63      1.00      0.77       549\n",
      "      alive       0.88      0.04      0.08       342\n",
      "\n",
      "avg / total       0.72      0.63      0.51       891\n",
      "\n"
     ]
    }
   ],
   "source": [
    "print a"
   ]
  },
  {
   "cell_type": "code",
   "execution_count": 37,
   "metadata": {
    "collapsed": false
   },
   "outputs": [],
   "source": [
    "a, b = gaussian_nb(X,Y)"
   ]
  },
  {
   "cell_type": "code",
   "execution_count": 38,
   "metadata": {
    "collapsed": false
   },
   "outputs": [
    {
     "name": "stdout",
     "output_type": "stream",
     "text": [
      "             precision    recall  f1-score   support\n",
      "\n",
      "       dead       0.83      0.83      0.83       549\n",
      "      alive       0.72      0.73      0.73       342\n",
      "\n",
      "avg / total       0.79      0.79      0.79       891\n",
      "\n"
     ]
    }
   ],
   "source": [
    "print a"
   ]
  },
  {
   "cell_type": "code",
   "execution_count": 39,
   "metadata": {
    "collapsed": false
   },
   "outputs": [],
   "source": [
    "a, b = multinomial_nb(X,Y)"
   ]
  },
  {
   "cell_type": "code",
   "execution_count": 40,
   "metadata": {
    "collapsed": false
   },
   "outputs": [
    {
     "name": "stdout",
     "output_type": "stream",
     "text": [
      "             precision    recall  f1-score   support\n",
      "\n",
      "       dead       0.71      0.80      0.75       549\n",
      "      alive       0.59      0.47      0.53       342\n",
      "\n",
      "avg / total       0.66      0.67      0.66       891\n",
      "\n"
     ]
    }
   ],
   "source": [
    "print a"
   ]
  },
  {
   "cell_type": "code",
   "execution_count": 41,
   "metadata": {
    "collapsed": true
   },
   "outputs": [],
   "source": [
    "a, b = bernoulli_nb(X,Y)"
   ]
  },
  {
   "cell_type": "code",
   "execution_count": 42,
   "metadata": {
    "collapsed": false
   },
   "outputs": [
    {
     "name": "stdout",
     "output_type": "stream",
     "text": [
      "             precision    recall  f1-score   support\n",
      "\n",
      "       dead       0.81      0.85      0.83       549\n",
      "      alive       0.74      0.68      0.71       342\n",
      "\n",
      "avg / total       0.78      0.79      0.78       891\n",
      "\n"
     ]
    }
   ],
   "source": [
    "print a"
   ]
  },
  {
   "cell_type": "code",
   "execution_count": 44,
   "metadata": {
    "collapsed": false
   },
   "outputs": [
    {
     "name": "stdout",
     "output_type": "stream",
     "text": [
      "             precision    recall  f1-score   support\n",
      "\n",
      "       dead       0.84      0.91      0.88       549\n",
      "      alive       0.84      0.73      0.78       342\n",
      "\n",
      "avg / total       0.84      0.84      0.84       891\n",
      "\n"
     ]
    }
   ],
   "source": [
    "a, b = tree_titanic(X,Y)\n",
    "print a"
   ]
  }
 ],
 "metadata": {
  "kernelspec": {
   "display_name": "Python 2",
   "language": "python",
   "name": "python2"
  },
  "language_info": {
   "codemirror_mode": {
    "name": "ipython",
    "version": 2
   },
   "file_extension": ".py",
   "mimetype": "text/x-python",
   "name": "python",
   "nbconvert_exporter": "python",
   "pygments_lexer": "ipython2",
   "version": "2.7.13"
  }
 },
 "nbformat": 4,
 "nbformat_minor": 2
}
