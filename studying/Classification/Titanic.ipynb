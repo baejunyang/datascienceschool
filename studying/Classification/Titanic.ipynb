{
 "cells": [
  {
   "cell_type": "code",
   "execution_count": 16,
   "metadata": {
    "collapsed": true
   },
   "outputs": [],
   "source": [
    "from sklearn.preprocessing import LabelEncoder\n",
    "from sklearn.discriminant_analysis import QuadraticDiscriminantAnalysis, LinearDiscriminantAnalysis\n",
    "from sklearn.metrics import classification_report, confusion_matrix\n",
    "from sklearn.naive_bayes import GaussianNB, MultinomialNB, BernoulliNB\n",
    "from sklearn.tree import DecisionTreeClassifier\n",
    "from sklearn.linear_model import SGDClassifier"
   ]
  },
  {
   "cell_type": "markdown",
   "metadata": {},
   "source": [
    "## 1 데이터 전처리"
   ]
  },
  {
   "cell_type": "code",
   "execution_count": 17,
   "metadata": {
    "collapsed": true
   },
   "outputs": [],
   "source": [
    "def preprocess(df):\n",
    "    df = df.loc[:,:'embarked']\n",
    "    \n",
    "    le = LabelEncoder()\n",
    "    sex0 = le.fit_transform(df.sex)\n",
    "    embarked0 = le.fit_transform(df.embarked)\n",
    "    df['sex']=sex0\n",
    "    df['embarked']=embarked0\n",
    "    \n",
    "    df = df.fillna(df.median())\n",
    "    \n",
    "    X = df.loc[:,'pclass':]\n",
    "    y = df.survived\n",
    "    return X, y"
   ]
  },
  {
   "cell_type": "markdown",
   "metadata": {},
   "source": [
    "## 2 QDA, LDA"
   ]
  },
  {
   "cell_type": "code",
   "execution_count": 28,
   "metadata": {
    "collapsed": true
   },
   "outputs": [],
   "source": [
    "def qda_titanic(X, y):\n",
    "    qda = QuadraticDiscriminantAnalysis(store_covariances=True).fit(X, y)\n",
    "    y_pred = qda.predict(X)\n",
    "    labels = ['dead', 'alive']\n",
    "\n",
    "    return classification_report(y, y_pred, target_names=labels), confusion_matrix(y, y_pred)"
   ]
  },
  {
   "cell_type": "code",
   "execution_count": 19,
   "metadata": {
    "collapsed": true
   },
   "outputs": [],
   "source": [
    "def lda_titanic(X, y):\n",
    "    lda = LinearDiscriminantAnalysis(n_components=2, store_covariance=True).fit(X,y)\n",
    "    y_pred = lda.predict(X)\n",
    "    labels = ['dead','alive']\n",
    "    \n",
    "    return classification_report(y, y_pred, target_names=labels), confusion_matrix(y, y_pred)    "
   ]
  },
  {
   "cell_type": "markdown",
   "metadata": {},
   "source": [
    "## 3 Naive bayes"
   ]
  },
  {
   "cell_type": "code",
   "execution_count": 37,
   "metadata": {
    "collapsed": true
   },
   "outputs": [],
   "source": [
    "def gaussian_nb(X,y):\n",
    "    clf = GaussianNB().fit(X,y)\n",
    "    y_pred = clf.predict(X)\n",
    "    labels = ['dead','alive']\n",
    "    \n",
    "    return classification_report(y, y_pred, target_names=labels), confusion_matrix(y, y_pred)        "
   ]
  },
  {
   "cell_type": "code",
   "execution_count": 21,
   "metadata": {
    "collapsed": true
   },
   "outputs": [],
   "source": [
    "def multinomial_nb(X,y):\n",
    "    clf = MultinomialNB().fit(X,y)\n",
    "    y_pred = clf.predict(X)\n",
    "    labels = ['dead','alive']\n",
    "    \n",
    "    return classification_report(y, y_pred, target_names=labels), confusion_matrix(y, y_pred)        "
   ]
  },
  {
   "cell_type": "code",
   "execution_count": 22,
   "metadata": {
    "collapsed": true
   },
   "outputs": [],
   "source": [
    "def bernoulli_nb(X,y):\n",
    "    clf = BernoulliNB().fit(X,y)\n",
    "    y_pred = clf.predict(X)\n",
    "    labels = ['dead','alive']\n",
    "    \n",
    "    return classification_report(y, y_pred, target_names=labels), confusion_matrix(y, y_pred)        "
   ]
  },
  {
   "cell_type": "markdown",
   "metadata": {},
   "source": [
    "## 4 Decision tree"
   ]
  },
  {
   "cell_type": "code",
   "execution_count": 23,
   "metadata": {
    "collapsed": true
   },
   "outputs": [],
   "source": [
    "def tree_titanic(X,y,depth=5):\n",
    "    tree = DecisionTreeClassifier(criterion='entropy', max_depth=depth, random_state=0).fit(X,y)\n",
    "    y_pred = tree.predict(X)\n",
    "    labels = ['dead','alive']\n",
    "    \n",
    "    return classification_report(y, y_pred, target_names=labels), confusion_matrix(y, y_pred)        "
   ]
  },
  {
   "cell_type": "markdown",
   "metadata": {},
   "source": [
    "## 5 퍼셉트론 & 서포트벡터머신"
   ]
  },
  {
   "cell_type": "code",
   "execution_count": 25,
   "metadata": {
    "collapsed": false
   },
   "outputs": [],
   "source": [
    "df = pd.read_csv('https://raw.githubusercontent.com/datascienceschool/docker_rpython/master/data/titanic.csv')\n",
    "X,y = preprocess(df)"
   ]
  },
  {
   "cell_type": "code",
   "execution_count": 29,
   "metadata": {
    "collapsed": false
   },
   "outputs": [],
   "source": [
    "a, b = qda_titanic(X,y)"
   ]
  },
  {
   "cell_type": "code",
   "execution_count": 30,
   "metadata": {
    "collapsed": false
   },
   "outputs": [
    {
     "name": "stdout",
     "output_type": "stream",
     "text": [
      "             precision    recall  f1-score   support\n",
      "\n",
      "       dead       0.83      0.86      0.85       549\n",
      "      alive       0.77      0.73      0.75       342\n",
      "\n",
      "avg / total       0.81      0.81      0.81       891\n",
      "\n"
     ]
    }
   ],
   "source": [
    "print a"
   ]
  },
  {
   "cell_type": "code",
   "execution_count": 31,
   "metadata": {
    "collapsed": false
   },
   "outputs": [],
   "source": [
    "a, b = gaussian_nb(X,y)"
   ]
  },
  {
   "cell_type": "code",
   "execution_count": 32,
   "metadata": {
    "collapsed": false
   },
   "outputs": [
    {
     "name": "stdout",
     "output_type": "stream",
     "text": [
      "             precision    recall  f1-score   support\n",
      "\n",
      "       dead       0.83      0.83      0.83       549\n",
      "      alive       0.73      0.73      0.73       342\n",
      "\n",
      "avg / total       0.79      0.79      0.79       891\n",
      "\n"
     ]
    }
   ],
   "source": [
    "print a"
   ]
  },
  {
   "cell_type": "code",
   "execution_count": 33,
   "metadata": {
    "collapsed": false
   },
   "outputs": [],
   "source": [
    "a, b = multinomial_nb(X,y)"
   ]
  },
  {
   "cell_type": "code",
   "execution_count": 34,
   "metadata": {
    "collapsed": false
   },
   "outputs": [
    {
     "name": "stdout",
     "output_type": "stream",
     "text": [
      "             precision    recall  f1-score   support\n",
      "\n",
      "       dead       0.71      0.83      0.76       549\n",
      "      alive       0.62      0.46      0.53       342\n",
      "\n",
      "avg / total       0.68      0.69      0.68       891\n",
      "\n"
     ]
    }
   ],
   "source": [
    "print a"
   ]
  },
  {
   "cell_type": "code",
   "execution_count": 35,
   "metadata": {
    "collapsed": true
   },
   "outputs": [],
   "source": [
    "a, b = bernoulli_nb(X,y)"
   ]
  },
  {
   "cell_type": "code",
   "execution_count": 36,
   "metadata": {
    "collapsed": false
   },
   "outputs": [
    {
     "name": "stdout",
     "output_type": "stream",
     "text": [
      "             precision    recall  f1-score   support\n",
      "\n",
      "       dead       0.81      0.85      0.83       549\n",
      "      alive       0.74      0.68      0.71       342\n",
      "\n",
      "avg / total       0.78      0.79      0.78       891\n",
      "\n"
     ]
    }
   ],
   "source": [
    "print a"
   ]
  }
 ],
 "metadata": {
  "kernelspec": {
   "display_name": "Python 2",
   "language": "python",
   "name": "python2"
  },
  "language_info": {
   "codemirror_mode": {
    "name": "ipython",
    "version": 2
   },
   "file_extension": ".py",
   "mimetype": "text/x-python",
   "name": "python",
   "nbconvert_exporter": "python",
   "pygments_lexer": "ipython2",
   "version": "2.7.13"
  }
 },
 "nbformat": 4,
 "nbformat_minor": 2
}
