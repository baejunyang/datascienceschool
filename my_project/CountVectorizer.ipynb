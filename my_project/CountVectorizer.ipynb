{
 "cells": [
  {
   "cell_type": "code",
   "execution_count": 5,
   "metadata": {
    "collapsed": true
   },
   "outputs": [],
   "source": [
    "from sklearn.feature_extraction.text import CountVectorizer, TfidfVectorizer\n",
    "from sklearn.model_selection import train_test_split\n",
    "from sklearn.pipeline import Pipeline\n",
    "from sklearn.naive_bayes import MultinomialNB\n",
    "from sklearn.metrics import classification_report, confusion_matrix\n",
    "from konlpy.tag import Twitter\n",
    "from konlpy.tag import Kkma\n",
    "import pandas as pd\n",
    "import numpy as np"
   ]
  },
  {
   "cell_type": "code",
   "execution_count": 45,
   "metadata": {
    "collapsed": true
   },
   "outputs": [],
   "source": [
    "def basic_input(frozen_dir='./private/files/seodam_together_notags0326.csv', unfrozen_dir='./private/files/unfrozen2_3500.csv', row_limit=3211):\n",
    "    df_frozen = pd.read_csv(frozen_dir).drop(['Unnamed: 0'], axis=1)\n",
    "    df_unfrozen = pd.read_csv(unfrozen_dir).drop(['Unnamed: 0'], axis=1)[:row_limit]\n",
    "\n",
    "    unfrozen = np.array(df_unfrozen['text2'])\n",
    "    frozen = np.array(df_frozen['text'])\n",
    "    weight0 = np.append(np.array(np.ones(row_limit, dtype=int)), np.array(df_frozen['freeze']))\n",
    "    seodam_x = np.append(unfrozen, frozen)\n",
    "    seodam_y = np.append(np.zeros(3211, dtype=int), np.ones(3211, dtype=int))\n",
    "\n",
    "    X_train, X_test, y_train, y_test, w_train, w_test = train_test_split(seodam_x, seodam_y, weight0, test_size=0.1, random_state=0)\n",
    "    \n",
    "    return X_train, X_test, y_train, y_test, w_train\n",
    "\n",
    "def tokenize_basic(doc):\n",
    "    tagger = Twitter()\n",
    "    token_list = []\n",
    "    for t in tagger.pos(doc, norm=True, stem=True):\n",
    "        if t[1] != 'Josa' and t[1] != 'Punctuation' and t[1] != 'Determiner' and t[1] != 'URL' :\n",
    "            token_list.append('/'.join(t))\n",
    "    return token_list\n",
    "\n",
    "def tokenize_noun(doc):\n",
    "    pos_tagger = Twitter()\n",
    "    return pos_tagger.nouns(doc)\n",
    "\n",
    "def tokenize_basic(doc):\n",
    "    pos_tagger = Twitter()\n",
    "    return ['/'.join(t) for t in pos_tagger.pos(doc, norm=True, stem=True)]"
   ]
  },
  {
   "cell_type": "code",
   "execution_count": 46,
   "metadata": {
    "collapsed": true
   },
   "outputs": [],
   "source": [
    "def get_one_report(X_train, y_train, X_test, y_test):\n",
    "    model = Pipeline([\n",
    "            ('vect', CountVectorizer(tokenizer=tokenize)),\n",
    "            ('clf', MultinomialNB())])\n",
    "    model.fit(X_train, y_train)\n",
    "    result = model.predict(X_test)\n",
    "    return classification_report(y_test, result)\n",
    "\n",
    "def get_conf_matrix(X_train, y_train, X_test, y_test):\n",
    "    model = Pipeline([\n",
    "            ('vect', CountVectorizer(tokenizer=tokenize)),\n",
    "            ('clf', MultinomialNB())])\n",
    "    model.fit(X_train, y_train)\n",
    "    result = model.predict(X_test)\n",
    "    return confusion_matrix(y_test, result)\n",
    "\n",
    "def get_one_report_tfidv(X_train, y_train, X_test, y_test):\n",
    "    model_tfidv = Pipeline([\n",
    "                ('tfidv', TfidfVectorizer(tokenizer=tokenize)),\n",
    "                ('clf', MultinomialNB())])\n",
    "    model.fit(X_train, y_train)\n",
    "    result = model.predict(X_test)\n",
    "    return classification_report(y_test, result)"
   ]
  },
  {
   "cell_type": "code",
   "execution_count": 41,
   "metadata": {
    "collapsed": true
   },
   "outputs": [],
   "source": [
    "def misclassificated_samples(X_train, y_train, X_test, y_test):\n",
    "    model = Pipeline([\n",
    "            ('vect', CountVectorizer(tokenizer=tokenize)),\n",
    "            ('clf', MultinomialNB())])\n",
    "    model.fit(X_train, y_train)\n",
    "    result = model.predict(X_test)\n",
    "    mask_fn = np.logical_and(y_test==0, result==1)\n",
    "    mask_fp = np.logical_and(y_test==1, result==0)\n",
    "    \n",
    "    false_negative = [text.decode('utf-8') for text in X_text[mask_fn]]\n",
    "    false_positive = [text.decode('utf-8') for text in X_test[mask_fp]]\n",
    "    \n",
    "    return false_negative, false_positive"
   ]
  },
  {
   "cell_type": "code",
   "execution_count": 48,
   "metadata": {
    "collapsed": false
   },
   "outputs": [],
   "source": [
    "X_train, X_test, y_train, y_test, weight = basic_input()\n",
    "test = get_conf_matrix(X_train, y_train, X_test, y_test)"
   ]
  },
  {
   "cell_type": "code",
   "execution_count": 51,
   "metadata": {
    "collapsed": false
   },
   "outputs": [
    {
     "name": "stdout",
     "output_type": "stream",
     "text": [
      "0.801204819277\n"
     ]
    }
   ],
   "source": [
    "print float(test[1,1]) / (test[1,0] + test[1,1])"
   ]
  },
  {
   "cell_type": "code",
   "execution_count": null,
   "metadata": {
    "collapsed": true
   },
   "outputs": [],
   "source": []
  }
 ],
 "metadata": {
  "kernelspec": {
   "display_name": "Python 2",
   "language": "python",
   "name": "python2"
  },
  "language_info": {
   "codemirror_mode": {
    "name": "ipython",
    "version": 2
   },
   "file_extension": ".py",
   "mimetype": "text/x-python",
   "name": "python",
   "nbconvert_exporter": "python",
   "pygments_lexer": "ipython2",
   "version": "2.7.13"
  }
 },
 "nbformat": 4,
 "nbformat_minor": 2
}
