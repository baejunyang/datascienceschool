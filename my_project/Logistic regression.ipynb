{
 "cells": [
  {
   "cell_type": "markdown",
   "metadata": {},
   "source": [
    "tfidf로 해보기"
   ]
  },
  {
   "cell_type": "code",
   "execution_count": 26,
   "metadata": {
    "collapsed": false
   },
   "outputs": [],
   "source": [
    "from sklearn.feature_extraction.text import CountVectorizer, TfidfVectorizer\n",
    "from sklearn.model_selection import train_test_split\n",
    "from sklearn.cross_validation import StratifiedKFold, cross_val_score\n",
    "from sklearn.pipeline import Pipeline\n",
    "from sklearn.metrics import classification_report, confusion_matrix\n",
    "from konlpy.tag import Twitter\n",
    "import statsmodels.api as sm\n",
    "from sklearn.linear_model import LogisticRegression"
   ]
  },
  {
   "cell_type": "code",
   "execution_count": 83,
   "metadata": {
    "collapsed": true
   },
   "outputs": [],
   "source": [
    "df_frozen = pd.read_csv('./private/files/seodam_together_notags0326.csv').drop(['Unnamed: 0'], axis=1)\n",
    "df_unfrozen = pd.read_csv('./private/files/unfrozen2_3500.csv').drop(['Unnamed: 0'], axis=1)[:3211]"
   ]
  },
  {
   "cell_type": "code",
   "execution_count": 84,
   "metadata": {
    "collapsed": true
   },
   "outputs": [],
   "source": [
    "unfrozen = np.array(df_unfrozen['text2'])\n",
    "frozen = np.array(df_frozen['text'])\n",
    "seodam_x = np.append(unfrozen, frozen)\n",
    "seodam_y = np.append(np.zeros(3211, dtype=int), np.ones(3211, dtype=int))"
   ]
  },
  {
   "cell_type": "code",
   "execution_count": 85,
   "metadata": {
    "collapsed": true
   },
   "outputs": [],
   "source": [
    "with open('stopwords.txt', 'r') as reader :\n",
    "    stop_words0 = reader.readlines()    \n",
    "stop_words = stop_words0[0].split(',')\n",
    "\n",
    "stop_words2 = []\n",
    "for words in stop_words:\n",
    "    stop_words2.append(words.decode('utf-8'))"
   ]
  },
  {
   "cell_type": "code",
   "execution_count": 86,
   "metadata": {
    "collapsed": true
   },
   "outputs": [],
   "source": [
    "tagger = Twitter()\n",
    "def tokenize(doc):\n",
    "    token_list = []\n",
    "    for t in tagger.pos(doc, norm=True, stem=True):\n",
    "        if t[1] != 'Josa' and t[1] != 'Punctuation' and t[1] != 'Determiner' and t[1] != 'URL' :\n",
    "            token_list.append('/'.join(t))\n",
    "    return token_list"
   ]
  },
  {
   "cell_type": "code",
   "execution_count": 93,
   "metadata": {
    "collapsed": true
   },
   "outputs": [],
   "source": [
    "vect = CountVectorizer(tokenizer=tokenize)\n",
    "vect.fit(X_train)\n",
    "X_train = vect.transform(X_train)\n",
    "X_test = vect.transform(X_test)"
   ]
  },
  {
   "cell_type": "code",
   "execution_count": 74,
   "metadata": {
    "collapsed": false
   },
   "outputs": [],
   "source": [
    "model = LogisticRegression().fit(X_train, y_train)"
   ]
  },
  {
   "cell_type": "code",
   "execution_count": 88,
   "metadata": {
    "collapsed": false
   },
   "outputs": [],
   "source": [
    "result = model.predict(X_test)"
   ]
  },
  {
   "cell_type": "code",
   "execution_count": 89,
   "metadata": {
    "collapsed": false
   },
   "outputs": [
    {
     "name": "stdout",
     "output_type": "stream",
     "text": [
      "[[259  68]\n",
      " [ 58 258]]\n",
      "             precision    recall  f1-score   support\n",
      "\n",
      "          0       0.82      0.79      0.80       327\n",
      "          1       0.79      0.82      0.80       316\n",
      "\n",
      "avg / total       0.80      0.80      0.80       643\n",
      "\n"
     ]
    }
   ],
   "source": [
    "print confusion_matrix(y_test, result)\n",
    "print classification_report(y_test, result)"
   ]
  },
  {
   "cell_type": "markdown",
   "metadata": {},
   "source": [
    "### stratified K-fold"
   ]
  },
  {
   "cell_type": "code",
   "execution_count": 87,
   "metadata": {
    "collapsed": false
   },
   "outputs": [],
   "source": [
    "unfrozen = np.array(df_unfrozen['text2'])\n",
    "frozen = np.array(df_frozen['text'])\n",
    "weight0 = np.append(np.array(np.ones(3211, dtype=int)), np.array(df_frozen['freeze']))\n",
    "seodam_x = np.append(unfrozen, frozen)\n",
    "seodam_y = np.append(np.zeros(3211, dtype=int), np.ones(3211, dtype=int))"
   ]
  },
  {
   "cell_type": "code",
   "execution_count": 88,
   "metadata": {
    "collapsed": true
   },
   "outputs": [],
   "source": [
    "tagger = Twitter()\n",
    "def tokenize(doc):\n",
    "    token_list = []\n",
    "    for t in tagger.pos(doc, norm=True, stem=True):\n",
    "        if t[1] != 'Josa' and t[1] != 'Punctuation' and t[1] != 'Determiner' and t[1] != 'URL' :\n",
    "            token_list.append('/'.join(t))\n",
    "    return token_list"
   ]
  },
  {
   "cell_type": "code",
   "execution_count": 90,
   "metadata": {
    "collapsed": true
   },
   "outputs": [],
   "source": [
    "model = Pipeline([\n",
    "    ('vect', CountVectorizer(tokenizer=tokenize)),\n",
    "    ('clf', LogisticRegression())])"
   ]
  },
  {
   "cell_type": "markdown",
   "metadata": {},
   "source": [
    "without sample rate"
   ]
  },
  {
   "cell_type": "code",
   "execution_count": 91,
   "metadata": {
    "collapsed": true
   },
   "outputs": [
    {
     "name": "stdout",
     "output_type": "stream",
     "text": [
      "             precision    recall  f1-score   support\n",
      "\n",
      "          0       0.62      0.72      0.66       322\n",
      "          1       0.66      0.56      0.61       322\n",
      "\n",
      "avg / total       0.64      0.64      0.64       644\n",
      "\n",
      "**********************************************************************\n",
      "             precision    recall  f1-score   support\n",
      "\n",
      "          0       0.71      0.72      0.71       321\n",
      "          1       0.71      0.70      0.71       321\n",
      "\n",
      "avg / total       0.71      0.71      0.71       642\n",
      "\n",
      "**********************************************************************\n",
      "             precision    recall  f1-score   support\n",
      "\n",
      "          0       0.67      0.75      0.71       321\n",
      "          1       0.71      0.63      0.67       321\n",
      "\n",
      "avg / total       0.69      0.69      0.69       642\n",
      "\n",
      "**********************************************************************\n",
      "             precision    recall  f1-score   support\n",
      "\n",
      "          0       0.74      0.79      0.77       321\n",
      "          1       0.78      0.72      0.75       321\n",
      "\n",
      "avg / total       0.76      0.76      0.76       642\n",
      "\n",
      "**********************************************************************\n",
      "             precision    recall  f1-score   support\n",
      "\n",
      "          0       0.81      0.74      0.78       321\n",
      "          1       0.76      0.83      0.79       321\n",
      "\n",
      "avg / total       0.79      0.79      0.78       642\n",
      "\n",
      "**********************************************************************\n",
      "             precision    recall  f1-score   support\n",
      "\n",
      "          0       0.86      0.74      0.79       321\n",
      "          1       0.77      0.88      0.82       321\n",
      "\n",
      "avg / total       0.81      0.81      0.81       642\n",
      "\n",
      "**********************************************************************\n",
      "             precision    recall  f1-score   support\n",
      "\n",
      "          0       0.85      0.66      0.74       321\n",
      "          1       0.72      0.88      0.79       321\n",
      "\n",
      "avg / total       0.78      0.77      0.77       642\n",
      "\n",
      "**********************************************************************\n",
      "             precision    recall  f1-score   support\n",
      "\n",
      "          0       0.86      0.69      0.76       321\n",
      "          1       0.74      0.89      0.81       321\n",
      "\n",
      "avg / total       0.80      0.79      0.78       642\n",
      "\n",
      "**********************************************************************\n",
      "             precision    recall  f1-score   support\n",
      "\n",
      "          0       0.86      0.66      0.75       321\n",
      "          1       0.73      0.89      0.80       321\n",
      "\n",
      "avg / total       0.79      0.78      0.77       642\n",
      "\n",
      "**********************************************************************\n",
      "             precision    recall  f1-score   support\n",
      "\n",
      "          0       0.88      0.64      0.74       321\n",
      "          1       0.72      0.91      0.80       321\n",
      "\n",
      "avg / total       0.80      0.78      0.77       642\n",
      "\n",
      "**********************************************************************\n"
     ]
    }
   ],
   "source": [
    "cv = StratifiedKFold(seodam_y, n_folds=10, random_state=0)\n",
    "for train_index, test_index in cv:\n",
    "    X_train0 = seodam_x[train_index]\n",
    "    X_test0 = seodam_x[test_index]\n",
    "    y_train = seodam_y[train_index]\n",
    "    \n",
    "    model.fit(X_train0, y_train)\n",
    "    result = model.predict(X_test0)\n",
    "    \n",
    "    print classification_report(seodam_y[test_index], result)\n",
    "    print '*' *70"
   ]
  },
  {
   "cell_type": "markdown",
   "metadata": {},
   "source": [
    "with sample weight"
   ]
  },
  {
   "cell_type": "code",
   "execution_count": 89,
   "metadata": {
    "collapsed": true
   },
   "outputs": [
    {
     "name": "stdout",
     "output_type": "stream",
     "text": [
      "             precision    recall  f1-score   support\n",
      "\n",
      "          0       0.63      0.67      0.65       322\n",
      "          1       0.65      0.61      0.63       322\n",
      "\n",
      "avg / total       0.64      0.64      0.64       644\n",
      "\n",
      "**************************************************\n",
      "             precision    recall  f1-score   support\n",
      "\n",
      "          0       0.71      0.68      0.69       321\n",
      "          1       0.69      0.72      0.70       321\n",
      "\n",
      "avg / total       0.70      0.70      0.70       642\n",
      "\n",
      "**************************************************\n",
      "             precision    recall  f1-score   support\n",
      "\n",
      "          0       0.69      0.72      0.71       321\n",
      "          1       0.71      0.67      0.69       321\n",
      "\n",
      "avg / total       0.70      0.70      0.70       642\n",
      "\n",
      "**************************************************\n",
      "             precision    recall  f1-score   support\n",
      "\n",
      "          0       0.75      0.78      0.76       321\n",
      "          1       0.77      0.74      0.76       321\n",
      "\n",
      "avg / total       0.76      0.76      0.76       642\n",
      "\n",
      "**************************************************\n",
      "             precision    recall  f1-score   support\n",
      "\n",
      "          0       0.83      0.73      0.78       321\n",
      "          1       0.76      0.85      0.80       321\n",
      "\n",
      "avg / total       0.79      0.79      0.79       642\n",
      "\n",
      "**************************************************\n",
      "             precision    recall  f1-score   support\n",
      "\n",
      "          0       0.88      0.72      0.79       321\n",
      "          1       0.76      0.91      0.83       321\n",
      "\n",
      "avg / total       0.82      0.81      0.81       642\n",
      "\n",
      "**************************************************\n",
      "             precision    recall  f1-score   support\n",
      "\n",
      "          0       0.86      0.63      0.73       321\n",
      "          1       0.71      0.90      0.79       321\n",
      "\n",
      "avg / total       0.78      0.76      0.76       642\n",
      "\n",
      "**************************************************\n",
      "             precision    recall  f1-score   support\n",
      "\n",
      "          0       0.88      0.63      0.74       321\n",
      "          1       0.71      0.92      0.80       321\n",
      "\n",
      "avg / total       0.80      0.77      0.77       642\n",
      "\n",
      "**************************************************\n",
      "             precision    recall  f1-score   support\n",
      "\n",
      "          0       0.88      0.63      0.73       321\n",
      "          1       0.71      0.91      0.80       321\n",
      "\n",
      "avg / total       0.79      0.77      0.76       642\n",
      "\n",
      "**************************************************\n",
      "             precision    recall  f1-score   support\n",
      "\n",
      "          0       0.88      0.62      0.73       321\n",
      "          1       0.71      0.91      0.80       321\n",
      "\n",
      "avg / total       0.79      0.77      0.76       642\n",
      "\n",
      "**************************************************\n"
     ]
    }
   ],
   "source": [
    "cv = StratifiedKFold(seodam_y, n_folds=10, random_state=0)\n",
    "for train_index, test_index in cv:\n",
    "    X_train0 = seodam_x[train_index]\n",
    "    X_test0 = seodam_x[test_index]\n",
    "    y_train = seodam_y[train_index]\n",
    "    weight = weight0[train_index]\n",
    "    \n",
    "    vect = CountVectorizer(tokenizer=tokenize)\n",
    "    X_train = vect.fit_transform(X_train0)\n",
    "    X_test = vect.transform(X_test0)\n",
    "    \n",
    "    clf = LogisticRegression().fit(X_train, y_train, sample_weight=weight)\n",
    "    result = clf.predict(X_test)\n",
    "    \n",
    "    print classification_report(seodam_y[test_index], result)\n",
    "    print '*' *50"
   ]
  }
 ],
 "metadata": {
  "kernelspec": {
   "display_name": "Python 2",
   "language": "python",
   "name": "python2"
  },
  "language_info": {
   "codemirror_mode": {
    "name": "ipython",
    "version": 2
   },
   "file_extension": ".py",
   "mimetype": "text/x-python",
   "name": "python",
   "nbconvert_exporter": "python",
   "pygments_lexer": "ipython2",
   "version": "2.7.13"
  }
 },
 "nbformat": 4,
 "nbformat_minor": 2
}
