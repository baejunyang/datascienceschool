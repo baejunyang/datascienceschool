{
 "cells": [
  {
   "cell_type": "code",
   "execution_count": 1,
   "metadata": {
    "collapsed": true
   },
   "outputs": [],
   "source": [
    "from sklearn.feature_extraction.text import CountVectorizer, TfidfVectorizer\n",
    "from sklearn.model_selection import train_test_split\n",
    "from sklearn.naive_bayes import MultinomialNB\n",
    "from sklearn.metrics import classification_report, confusion_matrix\n",
    "from konlpy.tag import Twitter\n",
    "from konlpy.tag import Kkma\n",
    "from collections import Counter"
   ]
  },
  {
   "cell_type": "code",
   "execution_count": 3,
   "metadata": {
    "collapsed": false
   },
   "outputs": [],
   "source": [
    "df_frozen = pd.read_csv('./files/seodam_re_main0321.csv').drop(['Unnamed: 0'], axis=1)\n",
    "df_unfrozen = pd.read_csv('./files/unfrozen2_3500.csv').drop(['Unnamed: 0'], axis=1)"
   ]
  },
  {
   "cell_type": "markdown",
   "metadata": {},
   "source": [
    "### 조사, 문장부호 제거"
   ]
  },
  {
   "cell_type": "code",
   "execution_count": 61,
   "metadata": {
    "collapsed": true
   },
   "outputs": [
    {
     "data": {
      "text/html": [
       "<div>\n",
       "<table border=\"1\" class=\"dataframe\">\n",
       "  <thead>\n",
       "    <tr style=\"text-align: right;\">\n",
       "      <th></th>\n",
       "      <th>date</th>\n",
       "      <th>text2</th>\n",
       "    </tr>\n",
       "  </thead>\n",
       "  <tbody>\n",
       "    <tr>\n",
       "      <th>0</th>\n",
       "      <td>2016/10/18 00:03</td>\n",
       "      <td>오 imgur 이거 이머저라고 읽는구낭 지금까지 임구르인줄</td>\n",
       "    </tr>\n",
       "    <tr>\n",
       "      <th>1</th>\n",
       "      <td>2016/10/18 00:04</td>\n",
       "      <td>회계학원론 공부중인데 5장 정산표랑 마감분개 문제푸는데    자꾸 말도안되는 숫자 ...</td>\n",
       "    </tr>\n",
       "    <tr>\n",
       "      <th>2</th>\n",
       "      <td>2016/10/18 00:11</td>\n",
       "      <td>인문대 오버워치 리그 규정 보고 생각난건데 굳이 자기 계정이어야하는 이유가 뭘까? ...</td>\n",
       "    </tr>\n",
       "    <tr>\n",
       "      <th>3</th>\n",
       "      <td>2016/10/18 00:15</td>\n",
       "      <td>유튜브에서 이라크 모술 탈환전 생중계중 https://youtu.be/dtl8Not...</td>\n",
       "    </tr>\n",
       "    <tr>\n",
       "      <th>4</th>\n",
       "      <td>2016/10/18 00:21</td>\n",
       "      <td>허정 교수님 경원 영강이라서 절평일텐데        그래도 한문제 틀려서 팍팍 학점...</td>\n",
       "    </tr>\n",
       "  </tbody>\n",
       "</table>\n",
       "</div>"
      ],
      "text/plain": [
       "               date                                              text2\n",
       "0  2016/10/18 00:03                   오 imgur 이거 이머저라고 읽는구낭 지금까지 임구르인줄\n",
       "1  2016/10/18 00:04  회계학원론 공부중인데 5장 정산표랑 마감분개 문제푸는데    자꾸 말도안되는 숫자 ...\n",
       "2  2016/10/18 00:11  인문대 오버워치 리그 규정 보고 생각난건데 굳이 자기 계정이어야하는 이유가 뭘까? ...\n",
       "3  2016/10/18 00:15  유튜브에서 이라크 모술 탈환전 생중계중 https://youtu.be/dtl8Not...\n",
       "4  2016/10/18 00:21  허정 교수님 경원 영강이라서 절평일텐데        그래도 한문제 틀려서 팍팍 학점..."
      ]
     },
     "execution_count": 61,
     "metadata": {},
     "output_type": "execute_result"
    }
   ],
   "source": [
    "df_unfrozen.head()"
   ]
  },
  {
   "cell_type": "code",
   "execution_count": 4,
   "metadata": {
    "collapsed": true
   },
   "outputs": [],
   "source": [
    "unfrozen = np.array(df_unfrozen['text2'])\n",
    "frozen = np.array(df_frozen['text'])"
   ]
  },
  {
   "cell_type": "code",
   "execution_count": 60,
   "metadata": {
    "collapsed": false
   },
   "outputs": [],
   "source": [
    "tagger = Twitter()\n",
    "base = ''\n",
    "for words in unfrozen[:10]:\n",
    "    base += ' ' + words.decode('utf-8')"
   ]
  },
  {
   "cell_type": "code",
   "execution_count": 58,
   "metadata": {
    "collapsed": false
   },
   "outputs": [],
   "source": [
    "tagger = Twitter()\n",
    "def tokenize(doc):\n",
    "    token_list = []\n",
    "    for t in tagger.pos(doc, norm=True, stem=True):\n",
    "        if t[1] != 'Josa' and t[1] != 'Punctuation' and t[1] != 'Determiner' and t[1] != 'URL' :\n",
    "            token_list.append('/'.join(t))\n",
    "    return token_list"
   ]
  },
  {
   "cell_type": "markdown",
   "metadata": {},
   "source": [
    "### Stop words 추가"
   ]
  },
  {
   "cell_type": "code",
   "execution_count": null,
   "metadata": {
    "collapsed": true
   },
   "outputs": [],
   "source": [
    "vect = CountVectorizer()\n",
    "vect.fit()"
   ]
  }
 ],
 "metadata": {
  "kernelspec": {
   "display_name": "Python 2",
   "language": "python",
   "name": "python2"
  },
  "language_info": {
   "codemirror_mode": {
    "name": "ipython",
    "version": 2
   },
   "file_extension": ".py",
   "mimetype": "text/x-python",
   "name": "python",
   "nbconvert_exporter": "python",
   "pygments_lexer": "ipython2",
   "version": "2.7.13"
  }
 },
 "nbformat": 4,
 "nbformat_minor": 2
}
