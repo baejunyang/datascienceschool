{
 "cells": [
  {
   "cell_type": "code",
   "execution_count": 1,
   "metadata": {
    "collapsed": true
   },
   "outputs": [],
   "source": [
    "import time\n",
    "from collections import OrderedDict\n",
    "from selenium import webdriver\n",
    "from selenium.webdriver.common.by import By\n",
    "from selenium.webdriver.support.ui import WebDriverWait\n",
    "from selenium.webdriver.common.keys import Keys\n",
    "from selenium.webdriver.support import expected_conditions as EC"
   ]
  },
  {
   "cell_type": "code",
   "execution_count": 2,
   "metadata": {
    "collapsed": false
   },
   "outputs": [],
   "source": [
    "chromedriver = './files/chromedriver'\n",
    "driver = webdriver.Chrome(chromedriver)\n",
    "driver.get('http://www.ssodam.com/')\n",
    "\n",
    "button = driver.find_element_by_css_selector(\"a[data-target='#loginModal']\")\n",
    "button.click()\n",
    "\n",
    "wait = WebDriverWait(driver,10)\n",
    "\n",
    "email = wait.until(EC.visibility_of_element_located((By.CSS_SELECTOR, \"input[class='form-control']\")))\n",
    "email.clear()\n",
    "email.send_keys('enjoi')\n",
    "\n",
    "\n",
    "password = driver.find_element_by_css_selector(\"input[placeholder='Password']\")\n",
    "password.clear()\n",
    "password.send_keys('ame306')\n",
    "\n",
    "login = driver.find_element_by_css_selector(\"input[class='submit btn btn-default']\")\n",
    "login.click()\n",
    "\n",
    "time.sleep(1)\n",
    "\n",
    "alert = driver.switch_to_alert()\n",
    "alert.accept()\n",
    "\n",
    "crawl = OrderedDict()\n",
    "crawl['title'] = []\n",
    "crawl['body'] = []\n",
    "crawl['date'] = []\n",
    "for i in range(213249, 223249):\n",
    "    driver.get('http://www.ssodam.com/content/{}'.format(i))\n",
    "    try:\n",
    "        title = driver.find_element_by_xpath(\"//div[@class='board-title']\")\n",
    "        body = driver.find_element_by_xpath(\"//div[@class='board-content mverdana']\")\n",
    "        date = driver.find_element_by_xpath(\"//div[@class='board-date row col-lg-3 col-xs-12 desktop-hide']\")\n",
    "    except:\n",
    "        crawl['title'].append('empty')\n",
    "        crawl['body'].append('empty')\n",
    "        crawl['date'].append('empty')\n",
    "        continue\n",
    "    \n",
    "    try:\n",
    "        crawl['title'].append(title.text.encode('utf-8'))\n",
    "        crawl['body'].append(body.text.encode('utf-8'))\n",
    "        crawl['date'].append(date.text.encode('utf-8'))\n",
    "    except :\n",
    "        continue\n",
    "\n",
    "df_crawl = pd.DataFrame(crawl)\n",
    "df_crawl.to_csv('crawl213249_223249.csv')"
   ]
  }
 ],
 "metadata": {
  "kernelspec": {
   "display_name": "Python 2",
   "language": "python",
   "name": "python2"
  },
  "language_info": {
   "codemirror_mode": {
    "name": "ipython",
    "version": 2
   },
   "file_extension": ".py",
   "mimetype": "text/x-python",
   "name": "python",
   "nbconvert_exporter": "python",
   "pygments_lexer": "ipython2",
   "version": "2.7.13"
  }
 },
 "nbformat": 4,
 "nbformat_minor": 2
}
