{
 "cells": [
  {
   "cell_type": "code",
   "execution_count": 27,
   "metadata": {
    "collapsed": false
   },
   "outputs": [],
   "source": [
    "reply = pd.read_csv('./private/files/seodam_re_notags0323.csv').ix[:,1:]\n",
    "main = pd.read_csv('./private/files/seodam_preprocess_done0307.csv').ix[:,1:].drop(['날짜'], axis=1)"
   ]
  },
  {
   "cell_type": "code",
   "execution_count": 28,
   "metadata": {
    "collapsed": false
   },
   "outputs": [],
   "source": [
    "main.columns = ['freeze', 'text']"
   ]
  },
  {
   "cell_type": "code",
   "execution_count": 29,
   "metadata": {
    "collapsed": false
   },
   "outputs": [],
   "source": [
    "lst = []\n",
    "for text in main['text']:\n",
    "    temp = re.sub(r'[\\r\\n]', ' ', text)\n",
    "    lst.append(temp)\n",
    "df = pd.DataFrame(lst, columns=['text'])"
   ]
  },
  {
   "cell_type": "code",
   "execution_count": 30,
   "metadata": {
    "collapsed": false
   },
   "outputs": [],
   "source": [
    "main2 = pd.concat([main['freeze'], df], axis=1)\n",
    "put_together = pd.concat([main2, reply], axis=0)\n",
    "put_together.reset_index(drop=True, inplace=True)\n",
    "\n",
    "put_together.set_value([450, 1109], 'freeze', [2,5])\n",
    "put_together.drop([451, 1110], axis=0, inplace=True)\n",
    "put_together.reset_index(drop=True, inplace=True)"
   ]
  },
  {
   "cell_type": "code",
   "execution_count": 38,
   "metadata": {
    "collapsed": false
   },
   "outputs": [],
   "source": [
    "put_together.to_csv('./private/files/seodam_together_notags0326.csv')"
   ]
  }
 ],
 "metadata": {
  "kernelspec": {
   "display_name": "Python 2",
   "language": "python",
   "name": "python2"
  },
  "language_info": {
   "codemirror_mode": {
    "name": "ipython",
    "version": 2
   },
   "file_extension": ".py",
   "mimetype": "text/x-python",
   "name": "python",
   "nbconvert_exporter": "python",
   "pygments_lexer": "ipython2",
   "version": "2.7.13"
  }
 },
 "nbformat": 4,
 "nbformat_minor": 2
}
