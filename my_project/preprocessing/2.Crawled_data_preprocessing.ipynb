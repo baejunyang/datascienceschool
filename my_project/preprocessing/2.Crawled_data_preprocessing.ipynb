{
 "cells": [
  {
   "cell_type": "code",
   "execution_count": 1,
   "metadata": {
    "collapsed": true
   },
   "outputs": [],
   "source": [
    "import pandas as pd\n",
    "import numpy as np\n",
    "from konlpy.utils import pprint\n",
    "from bs4 import BeautifulSoup\n",
    "import re"
   ]
  },
  {
   "cell_type": "code",
   "execution_count": 77,
   "metadata": {
    "collapsed": false
   },
   "outputs": [],
   "source": [
    "df = pd.read_csv('../private/files/main/crawl238249_243589.csv').drop('Unnamed: 0', axis=1)"
   ]
  },
  {
   "cell_type": "markdown",
   "metadata": {},
   "source": [
    "### 게시글 preprocessing"
   ]
  },
  {
   "cell_type": "code",
   "execution_count": 78,
   "metadata": {
    "collapsed": true
   },
   "outputs": [],
   "source": [
    "#df_crawl : DataFrame with columns 'title', 'body'\n",
    "def preprocessing(df_crawl):\n",
    "    df_frozen=pd.read_csv('../private/files/seodam_cleaned_short0307.csv')\n",
    "\n",
    "    df_crawl.reset_index(drop=True, inplace=True)\n",
    "    \n",
    "    #remove empty rows\n",
    "    df_crawl = df_crawl.ix[df_crawl['title']!='empty']\n",
    "    \n",
    "    #delete 'frozen' postings\n",
    "    frozen_list = df_frozen['제목']\n",
    "    df_crawl = df_crawl.ix[~df_crawl['title'].isin(frozen_list)]\n",
    "    \n",
    "    #merge cells\n",
    "    df_crawl['text'] = df_crawl['title'].map(str) + ' ' + df_crawl['body']\n",
    "    df_crawl.drop(['title', 'body'], axis=1, inplace=True)\n",
    "    df_crawl.reset_index(drop=True, inplace=True)\n",
    "    \n",
    "    #remove html\n",
    "    temp = []\n",
    "    for i in range(len(df_crawl['text'])):\n",
    "        try:\n",
    "            remove = re.sub(r'[\\n\\r]', ' ', df_crawl.ix[i,'text'])\n",
    "            remove = remove\n",
    "            temp.append(remove)\n",
    "        except:\n",
    "            temp.append('empty')\n",
    "    df_crawl['text2'] = temp\n",
    "    df_crawl.drop('text', axis=1, inplace=True)\n",
    "    \n",
    "    #remove empty rows\n",
    "    df_crawl = df_crawl.ix[df_crawl['text2']!='empty']\n",
    "    df_crawl.reset_index(drop=True, inplace=True)\n",
    "    \n",
    "    return df_crawl"
   ]
  },
  {
   "cell_type": "code",
   "execution_count": 79,
   "metadata": {
    "collapsed": true
   },
   "outputs": [],
   "source": [
    "result = preprocessing(df)"
   ]
  },
  {
   "cell_type": "code",
   "execution_count": 80,
   "metadata": {
    "collapsed": true
   },
   "outputs": [],
   "source": [
    "result.to_csv('../private/files/main/unfrozen238249_243589.csv')"
   ]
  },
  {
   "cell_type": "markdown",
   "metadata": {},
   "source": [
    "### 댓글 preprocessing"
   ]
  },
  {
   "cell_type": "code",
   "execution_count": 93,
   "metadata": {
    "collapsed": false
   },
   "outputs": [],
   "source": [
    "df4 = pd.read_csv('../private/files/comments/crawl_reply193294_194294.csv').drop('Unnamed: 0', axis=1)\n",
    "df5 = pd.read_csv('../private/files/comments/crawl_reply194294_195294.csv').drop('Unnamed: 0', axis=1)\n",
    "df6 = pd.read_csv('../private/files/comments/crawl_reply195294_196294.csv').drop('Unnamed: 0', axis=1)\n",
    "df7 = pd.read_csv('../private/files/comments/crawl_reply196294_197294.csv').drop('Unnamed: 0', axis=1)\n",
    "df8 = pd.read_csv('../private/files/comments/crawl_reply198294_199294.csv').drop('Unnamed: 0', axis=1)\n",
    "df9 = pd.read_csv('../private/files/comments/crawl_reply199294_200294.csv').drop('Unnamed: 0', axis=1)\n",
    "df10 = pd.read_csv('../private/files/comments/crawl_reply200294_210294.csv').drop('Unnamed: 0', axis=1)\n",
    "df1 = pd.read_csv('../private/files/comments/comments210294_223249.csv').drop('Unnamed: 0', axis=1)\n",
    "df2 = pd.read_csv('../private/files/comments/comments223249_238249.csv').drop('Unnamed: 0', axis=1)\n",
    "df3 = pd.read_csv('../private/files/comments/comments238249_243589.csv').drop('Unnamed: 0', axis=1)"
   ]
  },
  {
   "cell_type": "code",
   "execution_count": 94,
   "metadata": {
    "collapsed": false
   },
   "outputs": [],
   "source": [
    "df = pd.concat([df4, df5, df6, df7, df8, df9, df10, df1, df2, df3], axis=0)"
   ]
  },
  {
   "cell_type": "code",
   "execution_count": 97,
   "metadata": {
    "collapsed": false
   },
   "outputs": [],
   "source": [
    "def preprocessing_comments(df):\n",
    "    df_frozen = pd.read_csv('../private/files/seodam_re_notags0323.csv').drop('Unnamed: 0', axis=1)\n",
    "    \n",
    "    df.reset_index(drop=True, inplace=True)\n",
    "    \n",
    "    #remove empty rows\n",
    "    lst = []\n",
    "    for i, text in enumerate(df['text']):\n",
    "        if type(text) == float:\n",
    "            lst.append(i)\n",
    "    df.drop(lst, axis=0, inplace=True)\n",
    "    df.reset_index(drop=True, inplace=True)\n",
    "    \n",
    "    #remove revmoved rows\n",
    "    df = df.ix[df['text']!='삭제된 댓글입니다.']\n",
    "    df.reset_index(drop=True, inplace=True)\n",
    "    \n",
    "    #remove tags\n",
    "    temp = []\n",
    "    for i in range(len(df['text'])):\n",
    "        try:\n",
    "            remove = re.sub(r'[\\n\\r]', ' ', df.ix[i,'text'])\n",
    "            remove = remove\n",
    "            temp.append(remove)\n",
    "        except:\n",
    "            temp.append('empty')\n",
    "    df['text2'] = temp\n",
    "    df.drop('text', axis=1, inplace=True)\n",
    "    \n",
    "    #remove frozen comments\n",
    "    frozen_list = df_frozen['text']\n",
    "    df = df.ix[~df['text2'].isin(frozen_list)]\n",
    "    df.reset_index(drop=True, inplace=True)\n",
    "    \n",
    "    return df"
   ]
  },
  {
   "cell_type": "code",
   "execution_count": 98,
   "metadata": {
    "collapsed": false
   },
   "outputs": [
    {
     "name": "stderr",
     "output_type": "stream",
     "text": [
      "c:\\python27\\lib\\site-packages\\ipykernel\\__main__.py:27: SettingWithCopyWarning: \n",
      "A value is trying to be set on a copy of a slice from a DataFrame.\n",
      "Try using .loc[row_indexer,col_indexer] = value instead\n",
      "\n",
      "See the caveats in the documentation: http://pandas.pydata.org/pandas-docs/stable/indexing.html#indexing-view-versus-copy\n",
      "c:\\python27\\lib\\site-packages\\ipykernel\\__main__.py:28: SettingWithCopyWarning: \n",
      "A value is trying to be set on a copy of a slice from a DataFrame\n",
      "\n",
      "See the caveats in the documentation: http://pandas.pydata.org/pandas-docs/stable/indexing.html#indexing-view-versus-copy\n"
     ]
    }
   ],
   "source": [
    "result = preprocessing_comments(df)"
   ]
  },
  {
   "cell_type": "code",
   "execution_count": 106,
   "metadata": {
    "collapsed": true
   },
   "outputs": [],
   "source": [
    "result.to_csv('../private/files/comments/unfrozen_comments0403.csv')"
   ]
  }
 ],
 "metadata": {
  "kernelspec": {
   "display_name": "Python 2",
   "language": "python",
   "name": "python2"
  },
  "language_info": {
   "codemirror_mode": {
    "name": "ipython",
    "version": 2
   },
   "file_extension": ".py",
   "mimetype": "text/x-python",
   "name": "python",
   "nbconvert_exporter": "python",
   "pygments_lexer": "ipython2",
   "version": "2.7.13"
  }
 },
 "nbformat": 4,
 "nbformat_minor": 2
}
