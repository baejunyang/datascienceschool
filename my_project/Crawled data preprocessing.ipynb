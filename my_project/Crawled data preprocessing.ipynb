{
 "cells": [
  {
   "cell_type": "code",
   "execution_count": 18,
   "metadata": {
    "collapsed": true
   },
   "outputs": [],
   "source": [
    "import pandas as pd\n",
    "import numpy as np\n",
    "from konlpy.utils import pprint\n",
    "from bs4 import BeautifulSoup\n",
    "import re"
   ]
  },
  {
   "cell_type": "code",
   "execution_count": 65,
   "metadata": {
    "collapsed": false
   },
   "outputs": [],
   "source": [
    "df_crawl1 = pd.read_csv('./crawl193249_194249.csv')\n",
    "df_crawl2 = pd.read_csv('./crawl194249_195249.csv')\n",
    "df_crawl3 = pd.read_csv('./crawl195249_197249.csv')\n",
    "df_crawl4 = pd.read_csv('./crawl197249_198249.csv')\n",
    "df_frozen = pd.read_csv('./not in use/seodam_cleaned_short0307.csv').drop(['Unnamed: 0'], axis=1)"
   ]
  },
  {
   "cell_type": "markdown",
   "metadata": {},
   "source": [
    "크롤링 데이터 Concat"
   ]
  },
  {
   "cell_type": "code",
   "execution_count": 66,
   "metadata": {
    "collapsed": true
   },
   "outputs": [],
   "source": [
    "#크롤링 데이터 호출\n",
    "#concat(axis = 0)\n",
    "df_crawl = pd.concat([df_crawl1, df_crawl2, df_crawl3, df_crawl4], axis = 0)"
   ]
  },
  {
   "cell_type": "markdown",
   "metadata": {},
   "source": [
    "인덱스제거, 삭제된 글 제거, 중복글 제거"
   ]
  },
  {
   "cell_type": "code",
   "execution_count": 67,
   "metadata": {
    "collapsed": true
   },
   "outputs": [],
   "source": [
    "list_frozen = np.array(df_frozen['제목'])\n",
    "\n",
    "df_crawl = df_crawl.drop(['Unnamed: 0'], axis=1)\n",
    "df_crawl = df_crawl.ix[df_crawl['title']!='empty']\n",
    "df_crawl = df_crawl.ix[~df_crawl['title'].isin(list_frozen)]    \n",
    "\n",
    "df_crawl.to_csv('unfrozen_3500.csv')"
   ]
  },
  {
   "cell_type": "markdown",
   "metadata": {
    "collapsed": false
   },
   "source": [
    "제목과 내용을 합친다"
   ]
  },
  {
   "cell_type": "code",
   "execution_count": 12,
   "metadata": {
    "collapsed": false
   },
   "outputs": [],
   "source": [
    "df_crawl = pd.read_csv('./files/unfrozen_3500.csv').drop(['Unnamed: 0'], axis = 1)"
   ]
  },
  {
   "cell_type": "code",
   "execution_count": 13,
   "metadata": {
    "collapsed": true
   },
   "outputs": [],
   "source": [
    "df_crawl['text'] = df_crawl['title'].map(str) + ' ' + df_crawl['body']"
   ]
  },
  {
   "cell_type": "code",
   "execution_count": 14,
   "metadata": {
    "collapsed": false
   },
   "outputs": [],
   "source": [
    "df_crawl.to_csv('./files/unfrozen3_3500')"
   ]
  },
  {
   "cell_type": "markdown",
   "metadata": {},
   "source": [
    "특수문자 및 공백 제거"
   ]
  },
  {
   "cell_type": "code",
   "execution_count": 67,
   "metadata": {
    "collapsed": true
   },
   "outputs": [],
   "source": [
    "file_name = './files/unfrozen_3500.csv'\n",
    "df_crawl = pd.read_csv(file_name).drop(['Unnamed: 0'], axis = 1)"
   ]
  },
  {
   "cell_type": "code",
   "execution_count": 68,
   "metadata": {
    "collapsed": false
   },
   "outputs": [],
   "source": [
    "df_crawl = df_crawl.drop(['title', 'body'], axis = 1)"
   ]
  },
  {
   "cell_type": "code",
   "execution_count": 70,
   "metadata": {
    "collapsed": false
   },
   "outputs": [],
   "source": [
    "temp = []\n",
    "for i in range(3500):\n",
    "    try:\n",
    "        remove = re.sub(r'[\\n\\r]', ' ', df_crawl.ix[i,'text'])\n",
    "        remove = remove\n",
    "        temp.append(remove)\n",
    "    except:\n",
    "        temp.append('empty')\n",
    "\n",
    "df2 = pd.DataFrame({'text2':temp})"
   ]
  },
  {
   "cell_type": "code",
   "execution_count": 71,
   "metadata": {
    "collapsed": false,
    "scrolled": false
   },
   "outputs": [],
   "source": [
    "df_test = pd.concat([df_crawl, df2], axis =1)\n",
    "df_crawl2 = df_test.ix[df_test['text2']!='empty']\n",
    "df_crawl2 = df_crawl2.drop(['text'], axis = 1)"
   ]
  },
  {
   "cell_type": "code",
   "execution_count": null,
   "metadata": {
    "collapsed": true
   },
   "outputs": [],
   "source": [
    "df_crawl2.to_csv('./files/unfrozen2_3500.csv')"
   ]
  },
  {
   "cell_type": "code",
   "execution_count": null,
   "metadata": {
    "collapsed": true
   },
   "outputs": [],
   "source": []
  },
  {
   "cell_type": "code",
   "execution_count": null,
   "metadata": {
    "collapsed": true
   },
   "outputs": [],
   "source": []
  },
  {
   "cell_type": "code",
   "execution_count": 58,
   "metadata": {
    "collapsed": false
   },
   "outputs": [],
   "source": [
    "#오류.\n",
    "def preprocessing(df):\n",
    "    frozen = pd.read_csv('./not in use/seodam_cleaned_short0307.csv').drop(['Unnamed: 0'], axis=1)\n",
    "    list_frozen = np.array(frozen['제목'])\n",
    "    \n",
    "    crawl = df.drop(['Unnamed: 0'], axis=1)\n",
    "    crawl = df.ix[crawl['title']!='empty']\n",
    "    crawl2 = df.ix[crawl['title'].isin(list_frozen)]\n",
    "    \n",
    "    return crawl2"
   ]
  }
 ],
 "metadata": {
  "kernelspec": {
   "display_name": "Python 2",
   "language": "python",
   "name": "python2"
  },
  "language_info": {
   "codemirror_mode": {
    "name": "ipython",
    "version": 2
   },
   "file_extension": ".py",
   "mimetype": "text/x-python",
   "name": "python",
   "nbconvert_exporter": "python",
   "pygments_lexer": "ipython2",
   "version": "2.7.13"
  }
 },
 "nbformat": 4,
 "nbformat_minor": 2
}
