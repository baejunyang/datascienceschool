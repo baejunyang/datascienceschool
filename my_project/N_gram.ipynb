{
 "cells": [
  {
   "cell_type": "code",
   "execution_count": 2,
   "metadata": {
    "collapsed": false
   },
   "outputs": [],
   "source": [
    "from sklearn.feature_extraction.text import CountVectorizer, TfidfVectorizer\n",
    "from sklearn.model_selection import train_test_split\n",
    "from sklearn.naive_bayes import MultinomialNB\n",
    "from sklearn.metrics import classification_report, confusion_matrix\n",
    "from konlpy.tag import Twitter\n",
    "from sklearn.cross_validation import ShuffleSplit, cross_val_score\n",
    "from sklearn.pipeline import Pipeline"
   ]
  },
  {
   "cell_type": "code",
   "execution_count": 3,
   "metadata": {
    "collapsed": true
   },
   "outputs": [],
   "source": [
    "def make_input(frozen_dir='./private/files/seodam_together_notags0326.csv', unfrozen_dir='./private/files/unfrozen2_3500.csv', row_limit=3211):\n",
    "    df_frozen = pd.read_csv(frozen_dir).drop(['Unnamed: 0'], axis=1)\n",
    "    df_unfrozen = pd.read_csv(unfrozen_dir).drop(['Unnamed: 0'], axis=1)[:row_limit]\n",
    "    \n",
    "    unfrozen = np.array(df_unfrozen['text2'])\n",
    "    frozen = np.array(df_frozen['text'])\n",
    "    weight0 = np.append(np.array(np.ones(row_limit, dtype=int)), np.array(df_frozen['freeze']))\n",
    "    seodam_x = np.append(unfrozen, frozen)\n",
    "    seodam_y = np.append(np.zeros(row_limit, dtype=int), np.ones(row_limit, dtype=int))\n",
    "    \n",
    "    return (seodam_x, seodam_y, weight0)\n",
    "\n",
    "def make_stopwords(stwd_dir='stopwords.txt'):\n",
    "    stop_words = []\n",
    "    with open(stwd_dir, 'r') as reader :\n",
    "        stop_words0 = reader.readlines()\n",
    "        stop_words1 = stop_words0[0].split(',')\n",
    "    for words in stop_words1:\n",
    "        stop_words.append(words.decode('utf-8'))\n",
    "    \n",
    "    return stop_words\n",
    "\n",
    "def tokenize(doc):\n",
    "    tagger = Twitter()\n",
    "    token_list = []\n",
    "    for t in tagger.pos(doc, norm=True, stem=True):\n",
    "        if t[1] != 'Josa' and t[1] != 'Punctuation' and t[1] != 'Determiner' and t[1] != 'URL' :\n",
    "            token_list.append('/'.join(t))\n",
    "    return token_list"
   ]
  },
  {
   "cell_type": "code",
   "execution_count": 9,
   "metadata": {
    "collapsed": false
   },
   "outputs": [],
   "source": [
    "def multinomial_recall_rate(X, y, weight=None, len_row=6422, rdst=0):\n",
    "    model = Pipeline([\n",
    "            ('vect', CountVectorizer(tokenizer=tokenize, ngram_range=(1,2))),\n",
    "            ('clf', MultinomialNB())])\n",
    "    cv = ShuffleSplit(len_row, random_state=rdst)\n",
    "    recall_rate = cross_val_score(model, X, y, scoring='recall', cv=cv, fit_params={'clf__sample_weight' : weight})\n",
    "    \n",
    "    return recall_rate"
   ]
  },
  {
   "cell_type": "code",
   "execution_count": 10,
   "metadata": {
    "collapsed": false
   },
   "outputs": [],
   "source": [
    "X,y,weight = make_input()\n",
    "recall_rate = multinomial_recall_rate(X,y)"
   ]
  }
 ],
 "metadata": {
  "kernelspec": {
   "display_name": "Python 2",
   "language": "python",
   "name": "python2"
  },
  "language_info": {
   "codemirror_mode": {
    "name": "ipython",
    "version": 2
   },
   "file_extension": ".py",
   "mimetype": "text/x-python",
   "name": "python",
   "nbconvert_exporter": "python",
   "pygments_lexer": "ipython2",
   "version": "2.7.13"
  }
 },
 "nbformat": 4,
 "nbformat_minor": 2
}
