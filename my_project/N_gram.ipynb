{
 "cells": [
  {
   "cell_type": "code",
   "execution_count": 2,
   "metadata": {
    "collapsed": true
   },
   "outputs": [],
   "source": [
    "from sklearn.feature_extraction.text import CountVectorizer, TfidfVectorizer\n",
    "from sklearn.model_selection import train_test_split\n",
    "from sklearn.naive_bayes import MultinomialNB\n",
    "from sklearn.metrics import classification_report, confusion_matrix\n",
    "from konlpy.tag import Twitter\n",
    "from konlpy.tag import Kkma"
   ]
  },
  {
   "cell_type": "code",
   "execution_count": 3,
   "metadata": {
    "collapsed": true
   },
   "outputs": [],
   "source": [
    "df_frozen = pd.read_csv('./files/seodam_together_notags0323.csv').drop(['Unnamed: 0'], axis=1)\n",
    "df_unfrozen = pd.read_csv('./files/unfrozen2_3500.csv').drop(['Unnamed: 0'], axis=1)[:3213]"
   ]
  },
  {
   "cell_type": "code",
   "execution_count": 4,
   "metadata": {
    "collapsed": true
   },
   "outputs": [],
   "source": [
    "unfrozen = np.array(df_unfrozen['text2'])\n",
    "frozen = np.array(df_frozen['text'])\n",
    "seodam_x = np.append(unfrozen, frozen)\n",
    "seodam_y = np.append(np.zeros(3213, dtype=int), np.ones(3213, dtype=int))\n",
    "\n",
    "X_train, X_test, y_train, y_test = train_test_split(seodam_x, seodam_y, test_size=0.1, random_state=2)"
   ]
  },
  {
   "cell_type": "code",
   "execution_count": 5,
   "metadata": {
    "collapsed": true
   },
   "outputs": [],
   "source": [
    "with open('stopwords.txt', 'r') as reader :\n",
    "    stop_words0 = reader.readlines()\n",
    "    \n",
    "stop_words = stop_words0[0].split(',')\n",
    "\n",
    "stop_words2 = []\n",
    "for words in stop_words:\n",
    "    stop_words2.append(words.decode('utf-8'))"
   ]
  },
  {
   "cell_type": "code",
   "execution_count": 6,
   "metadata": {
    "collapsed": true
   },
   "outputs": [],
   "source": [
    "tagger = Twitter()\n",
    "def tokenize(doc):\n",
    "    token_list = []\n",
    "    for t in tagger.pos(doc, norm=True, stem=True):\n",
    "        if t[1] != 'Josa' and t[1] != 'Punctuation' and t[1] != 'Determiner' and t[1] != 'URL' :\n",
    "            token_list.append('/'.join(t))\n",
    "    return token_list"
   ]
  },
  {
   "cell_type": "code",
   "execution_count": 8,
   "metadata": {
    "collapsed": false
   },
   "outputs": [],
   "source": [
    "vect = CountVectorizer(tokenizer=tokenize, ngram_range=(1,2))\n",
    "vect.fit(X_train)\n",
    "X_train = vect.transform(X_train)\n",
    "X_test = vect.transform(X_test)\n",
    "\n",
    "clf = MultinomialNB()\n",
    "clf.fit(X_train, y_train)\n",
    "\n",
    "result = clf.predict(X_test)"
   ]
  },
  {
   "cell_type": "code",
   "execution_count": 9,
   "metadata": {
    "collapsed": false
   },
   "outputs": [
    {
     "name": "stdout",
     "output_type": "stream",
     "text": [
      "             precision    recall  f1-score   support\n",
      "\n",
      "          0       0.76      0.84      0.80       316\n",
      "          1       0.83      0.74      0.79       327\n",
      "\n",
      "avg / total       0.80      0.79      0.79       643\n",
      "\n",
      "\n",
      "[[267  49]\n",
      " [ 84 243]]\n"
     ]
    }
   ],
   "source": [
    "print classification_report(y_test, result)\n",
    "print \n",
    "print confusion_matrix(y_test, result)"
   ]
  }
 ],
 "metadata": {
  "kernelspec": {
   "display_name": "Python 2",
   "language": "python",
   "name": "python2"
  },
  "language_info": {
   "codemirror_mode": {
    "name": "ipython",
    "version": 2
   },
   "file_extension": ".py",
   "mimetype": "text/x-python",
   "name": "python",
   "nbconvert_exporter": "python",
   "pygments_lexer": "ipython2",
   "version": "2.7.13"
  }
 },
 "nbformat": 4,
 "nbformat_minor": 2
}
