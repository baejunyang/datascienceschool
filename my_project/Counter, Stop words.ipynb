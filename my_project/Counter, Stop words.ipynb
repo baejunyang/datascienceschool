{
 "cells": [
  {
   "cell_type": "code",
   "execution_count": 7,
   "metadata": {
    "collapsed": false
   },
   "outputs": [
    {
     "name": "stderr",
     "output_type": "stream",
     "text": [
      "c:\\python27\\lib\\site-packages\\sklearn\\cross_validation.py:44: DeprecationWarning: This module was deprecated in version 0.18 in favor of the model_selection module into which all the refactored classes and functions are moved. Also note that the interface of the new CV iterators are different from that of this module. This module will be removed in 0.20.\n",
      "  \"This module will be removed in 0.20.\", DeprecationWarning)\n"
     ]
    }
   ],
   "source": [
    "from konlpy.tag import Twitter\n",
    "from sklearn.model_selection import train_test_split\n",
    "from sklearn.cross_validation import StratifiedKFold, ShuffleSplit, cross_val_score\n",
    "from sklearn.feature_extraction.text import CountVectorizer, TfidfVectorizer\n",
    "from sklearn.naive_bayes import MultinomialNB\n",
    "from sklearn.linear_model import LogisticRegression\n",
    "from sklearn.svm import SVC\n",
    "from sklearn.pipeline import Pipeline\n",
    "from sklearn.metrics import classification_report, confusion_matrix"
   ]
  },
  {
   "cell_type": "code",
   "execution_count": 2,
   "metadata": {
    "collapsed": false
   },
   "outputs": [],
   "source": [
    "df_frozen = pd.read_csv('./private/files/seodam_together_notags0322.csv').drop(['Unnamed: 0'], axis=1)\n",
    "df_unfrozen = pd.read_csv('./private/files/unfrozen_mixed0402.csv').drop(['Unnamed: 0'], axis=1)"
   ]
  },
  {
   "cell_type": "markdown",
   "metadata": {},
   "source": [
    "### False negative, False positive 샘플 검사"
   ]
  },
  {
   "cell_type": "code",
   "execution_count": 1,
   "metadata": {
    "collapsed": true
   },
   "outputs": [],
   "source": [
    "def cv_input(frozen_dir='./private/files/seodam_together_notags0326.csv', unfrozen_dir='./private/files/unfrozen_mixed0402.csv', row_limit=3211):\n",
    "    df_frozen = pd.read_csv(frozen_dir).drop(['Unnamed: 0'], axis=1)\n",
    "    df_unfrozen = pd.read_csv(unfrozen_dir).drop(['Unnamed: 0'], axis=1)[:row_limit]\n",
    "\n",
    "    unfrozen = np.array(df_unfrozen['text2'])\n",
    "    frozen = np.array(df_frozen['text'])\n",
    "\n",
    "    weight0 = np.append(np.array(np.ones(row_limit, dtype=int)), np.array(df_frozen['freeze']))\n",
    "    seodam_x = np.append(unfrozen, frozen)\n",
    "    seodam_y = np.append(np.zeros(row_limit, dtype=int), np.ones(row_limit, dtype=int))\n",
    "    return (seodam_x, seodam_y, weight0)\n",
    "\n",
    "def tokenize_filtered(doc):\n",
    "    tagger = Twitter()\n",
    "    token_list = []\n",
    "    for t in tagger.pos(doc, norm=True, stem=True):\n",
    "        if t[1] != 'Josa' and t[1] != 'Punctuation' and t[1] != 'Determiner' and t[1] != 'URL' :\n",
    "            token_list.append('/'.join(t))\n",
    "    return token_list"
   ]
  },
  {
   "cell_type": "code",
   "execution_count": 14,
   "metadata": {
    "collapsed": true
   },
   "outputs": [],
   "source": [
    "class FalseSamples(object):\n",
    "    def __init__(self, X, y, w, tokenize=tokenize_filtered, weight=False, stop_words=None, random_state=0):\n",
    "        self.X = X\n",
    "        self.y = y\n",
    "        self.w = w\n",
    "        self.tokenize = tokenize\n",
    "        self.weight = weight\n",
    "        self.stop_words = stop_words\n",
    "        self.random_state = random_state\n",
    "\n",
    "    def simple_split(self):\n",
    "        X_train, X_test, y_train, y_test, w_train, w_test = train_test_split(self.X, self.y, self.w, test_size=0.1, random_state=self.random_state)\n",
    "        return X_train, X_test, y_train, y_test, w_train        "
   ]
  },
  {
   "cell_type": "code",
   "execution_count": 40,
   "metadata": {
    "collapsed": false
   },
   "outputs": [],
   "source": [
    "X, y, weight = cv_input()\n",
    "X_train0, X_test0, y_train, y_test, w_train, w_test = train_test_split(X, y, weight, test_size=0.1)\n",
    "\n",
    "vect = CountVectorizer(tokenizer=tokenize_filtered)\n",
    "X_train = vect.fit_transform(X_train0)\n",
    "X_test = vect.transform(X_test0)\n",
    "\n",
    "clf = MultinomialNB()\n",
    "clf.fit(X_train, y_train, sample_weight=w_train)\n",
    "result = clf.predict(X_test)\n",
    "\n",
    "mask_fn = np.logical_and(y_test==0, result==1)\n",
    "mask_fp = np.logical_and(y_test==1, result==0)\n",
    "\n",
    "#false_negative = [text.decode('utf-8') for text in X_test[mask_fn]]\n",
    "#false_positive = [text.decode('utf-8') for text in X_test[mask_fp]]\n",
    "\n",
    "report = confusion_matrix(y_test, result)\n",
    "recall_rate = float(report[1,1]) / (report[1,0] + report[1,1])"
   ]
  },
  {
   "cell_type": "code",
   "execution_count": 31,
   "metadata": {
    "collapsed": false
   },
   "outputs": [],
   "source": [
    "df_X = pd.DataFrame(X_test, columns=['text'])"
   ]
  },
  {
   "cell_type": "markdown",
   "metadata": {},
   "source": [
    "실제 1(냉동)인데 0(정상)으로 예측"
   ]
  },
  {
   "cell_type": "code",
   "execution_count": null,
   "metadata": {
    "collapsed": false
   },
   "outputs": [],
   "source": [
    "df_X.ix[mask_fp]"
   ]
  },
  {
   "cell_type": "markdown",
   "metadata": {},
   "source": [
    "실제 0(정상)인데 1(냉동)으로 예측"
   ]
  },
  {
   "cell_type": "code",
   "execution_count": null,
   "metadata": {
    "collapsed": false
   },
   "outputs": [],
   "source": [
    "df_X.ix[mask_fn]"
   ]
  },
  {
   "cell_type": "code",
   "execution_count": 68,
   "metadata": {
    "collapsed": false,
    "scrolled": true
   },
   "outputs": [],
   "source": [
    "important_0 = []\n",
    "for i, prob in enumerate(clf.feature_log_prob_[0]):\n",
    "    if prob > -6:\n",
    "        important_0.append(i)"
   ]
  },
  {
   "cell_type": "code",
   "execution_count": 80,
   "metadata": {
    "collapsed": true
   },
   "outputs": [],
   "source": [
    "important_1 = []\n",
    "for i, prob in enumerate(clf.feature_log_prob_[1]):\n",
    "    if prob > -6:\n",
    "        important_1.append(i)"
   ]
  },
  {
   "cell_type": "code",
   "execution_count": 74,
   "metadata": {
    "collapsed": false
   },
   "outputs": [],
   "source": [
    "voca = sorted(vect.vocabulary_.items(), key=lambda x : x[1])"
   ]
  },
  {
   "cell_type": "markdown",
   "metadata": {},
   "source": [
    "0(정상)인 글에 등장할 확률이 높은 단어"
   ]
  },
  {
   "cell_type": "code",
   "execution_count": 77,
   "metadata": {
    "collapsed": false
   },
   "outputs": [],
   "source": [
    "xx = []\n",
    "for i in important_0:\n",
    "    xx.append(voca[i])\n",
    "pprint(xx)"
   ]
  },
  {
   "cell_type": "markdown",
   "metadata": {},
   "source": [
    "1(냉동)인 글에 등장할 확률이 높은 단어"
   ]
  },
  {
   "cell_type": "code",
   "execution_count": null,
   "metadata": {
    "collapsed": false
   },
   "outputs": [],
   "source": [
    "yy = []\n",
    "for i in important_1:\n",
    "    yy.append(voca[i])\n",
    "pprint(yy)"
   ]
  },
  {
   "cell_type": "markdown",
   "metadata": {},
   "source": [
    "### 냉동 단어들 vs 비 냉동 단어들 비교"
   ]
  },
  {
   "cell_type": "code",
   "execution_count": 3,
   "metadata": {
    "collapsed": false
   },
   "outputs": [],
   "source": [
    "def tokenize_basic(doc):\n",
    "    pos_tagger = Twitter()\n",
    "    return ['/'.join(t) for t in pos_tagger.pos(doc, norm=True, stem=True)]\n",
    "\n",
    "def tokenize_noun(doc):\n",
    "    pos_tagger = Twitter()\n",
    "    return pos_tagger.nouns(doc)\n",
    "\n",
    "def tokenize_filtered(doc):\n",
    "    tagger = Twitter()\n",
    "    token_list = []\n",
    "    for t in tagger.pos(doc, norm=True, stem=True):\n",
    "        if t[1] != 'Josa' and t[1] != 'Punctuation' and t[1] != 'Determiner' and t[1] != 'URL' :\n",
    "            token_list.append('/'.join(t))\n",
    "    return token_list"
   ]
  },
  {
   "cell_type": "code",
   "execution_count": 4,
   "metadata": {
    "collapsed": true
   },
   "outputs": [],
   "source": [
    "frozen_str = ' '.join(df_frozen.text.values).decode('utf-8')\n",
    "unfrozen_str = ' '.join(df_unfrozen.text2.values).decode('utf-8')"
   ]
  },
  {
   "cell_type": "code",
   "execution_count": 5,
   "metadata": {
    "collapsed": false
   },
   "outputs": [],
   "source": [
    "frozen_words = tokenize_filtered(frozen_str)\n",
    "unfrozen_words = tokenize_filtered(unfrozen_str)"
   ]
  },
  {
   "cell_type": "code",
   "execution_count": 6,
   "metadata": {
    "collapsed": true
   },
   "outputs": [],
   "source": [
    "frozen_count = Counter(frozen_words)\n",
    "unfrozen_count = Counter(unfrozen_words)"
   ]
  },
  {
   "cell_type": "code",
   "execution_count": 7,
   "metadata": {
    "collapsed": false
   },
   "outputs": [],
   "source": [
    "diff_frozen = {}\n",
    "for k, v in frozen_count.items():\n",
    "    if k in unfrozen_words:\n",
    "        diff_frozen[k] = v - unfrozen_count[k]\n",
    "    else :\n",
    "        diff_frozen[k] = v\n",
    "\n",
    "diff_unfrozen = {}\n",
    "for k, v in unfrozen_count.items():\n",
    "    if k in frozen_words:\n",
    "        diff_unfrozen[k] = v - frozen_count[k]\n",
    "    else:\n",
    "        diff_unfrozen[k] = v"
   ]
  },
  {
   "cell_type": "code",
   "execution_count": 8,
   "metadata": {
    "collapsed": false
   },
   "outputs": [],
   "source": [
    "frozen_sort = sorted(diff_frozen.items(), key=lambda x: x[1], reverse=True)\n",
    "unfrozen_sort = sorted(diff_unfrozen.items(), key=lambda x: x[1], reverse=True)"
   ]
  },
  {
   "cell_type": "markdown",
   "metadata": {},
   "source": [
    "워드클라우드 생성"
   ]
  },
  {
   "cell_type": "code",
   "execution_count": 21,
   "metadata": {
    "collapsed": false
   },
   "outputs": [],
   "source": [
    "frozen_lst = []\n",
    "for pos in frozen_sort[:20]:\n",
    "    removed = re.sub(r'/\\w+', '', pos[0])\n",
    "    tup = (removed, pos[1])\n",
    "    frozen_lst.append(tup)\n",
    "\n",
    "unfrozen_lst = []\n",
    "for pos in unfrozen_sort[:20]:\n",
    "    removed = re.sub(r'/\\w+', '', pos[0])\n",
    "    tup = (removed, pos[1])\n",
    "    unfrozen_lst.append(tup)"
   ]
  },
  {
   "cell_type": "code",
   "execution_count": 28,
   "metadata": {
    "collapsed": false,
    "scrolled": true
   },
   "outputs": [],
   "source": [
    "import pytagcloud\n",
    "\n",
    "tag_frozen = frozen_lst\n",
    "tag_unfrozen = unfrozen_lst\n",
    "\n",
    "taglist = pytagcloud.make_tags(tag_frozen, maxsize=150)\n",
    "taglist2 = pytagcloud.make_tags(tag_unfrozen, maxsize=100)\n",
    "\n",
    "pytagcloud.create_tag_image(taglist, 'wordcloud_f.jpg', fontname='Korean', size=(700, 400))\n",
    "pytagcloud.create_tag_image(taglist2, 'wordcloud_u.jpg', fontname='Korean', size=(900, 600))"
   ]
  },
  {
   "cell_type": "markdown",
   "metadata": {},
   "source": [
    "### Stop words 파일 생성"
   ]
  },
  {
   "cell_type": "code",
   "execution_count": 36,
   "metadata": {
    "collapsed": false
   },
   "outputs": [],
   "source": [
    "frozen = np.array(df_frozen['text'])\n",
    "frozen_str = ' '.join(frozen).decode('utf-8')\n",
    "unfrozen = np.array(df_unfrozen['text2'])\n",
    "unfrozen_str = ' '.join(unfrozen).decode('utf-8')"
   ]
  },
  {
   "cell_type": "code",
   "execution_count": 38,
   "metadata": {
    "collapsed": true
   },
   "outputs": [],
   "source": [
    "words = tokenize_basic(frozen_str)\n",
    "counter = Counter(words)"
   ]
  },
  {
   "cell_type": "code",
   "execution_count": 39,
   "metadata": {
    "collapsed": true
   },
   "outputs": [],
   "source": [
    "stop_words = []\n",
    "for k, v in counter.most_common(100):\n",
    "    stop_words.append(k)"
   ]
  },
  {
   "cell_type": "code",
   "execution_count": 71,
   "metadata": {
    "collapsed": false
   },
   "outputs": [],
   "source": [
    "with open('stopwords.txt', 'w') as words :\n",
    "    words.write(','.join(stop_words).encode('utf-8'))"
   ]
  }
 ],
 "metadata": {
  "kernelspec": {
   "display_name": "Python 2",
   "language": "python",
   "name": "python2"
  },
  "language_info": {
   "codemirror_mode": {
    "name": "ipython",
    "version": 2
   },
   "file_extension": ".py",
   "mimetype": "text/x-python",
   "name": "python",
   "nbconvert_exporter": "python",
   "pygments_lexer": "ipython2",
   "version": "2.7.13"
  }
 },
 "nbformat": 4,
 "nbformat_minor": 2
}
