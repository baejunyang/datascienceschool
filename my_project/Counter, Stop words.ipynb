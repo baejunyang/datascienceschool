{
 "cells": [
  {
   "cell_type": "markdown",
   "metadata": {},
   "source": [
    "### 냉동 vs 비냉동 많이 나온 어휘 차이"
   ]
  },
  {
   "cell_type": "code",
   "execution_count": 12,
   "metadata": {
    "collapsed": false
   },
   "outputs": [],
   "source": [
    "from sklearn.feature_extraction.text import CountVectorizer, TfidfVectorizer\n",
    "from sklearn.model_selection import train_test_split\n",
    "from sklearn.naive_bayes import MultinomialNB\n",
    "from sklearn.metrics import classification_report, confusion_matrix\n",
    "from konlpy.tag import Twitter\n",
    "from konlpy.tag import Kkma\n",
    "from collections import Counter"
   ]
  },
  {
   "cell_type": "code",
   "execution_count": 35,
   "metadata": {
    "collapsed": false
   },
   "outputs": [],
   "source": [
    "df_frozen = pd.read_csv('./files/seodam_together_notags0322.csv').drop(['Unnamed: 0'], axis=1)\n",
    "df_unfrozen = pd.read_csv('./files/unfrozen2_3500.csv').drop(['Unnamed: 0'], axis=1)"
   ]
  },
  {
   "cell_type": "code",
   "execution_count": 36,
   "metadata": {
    "collapsed": false
   },
   "outputs": [],
   "source": [
    "frozen = np.array(df_frozen['text'])\n",
    "frozen_str = ' '.join(frozen).decode('utf-8')\n",
    "unfrozen = np.array(df_unfrozen['text2'])\n",
    "unfrozen_str = ' '.join(unfrozen).decode('utf-8')"
   ]
  },
  {
   "cell_type": "markdown",
   "metadata": {},
   "source": [
    "### 조사, 문장부호 등 제거"
   ]
  },
  {
   "cell_type": "code",
   "execution_count": 37,
   "metadata": {
    "collapsed": false
   },
   "outputs": [],
   "source": [
    "tagger = Twitter()\n",
    "def tokenize(doc):\n",
    "    token_list = []\n",
    "    for t in tagger.pos(doc, norm=True, stem=True):\n",
    "        if t[1] != 'Josa' and t[1] != 'Punctuation' and t[1] != 'Determiner' and t[1] != 'URL' :\n",
    "            token_list.append('/'.join(t))\n",
    "    return token_list"
   ]
  },
  {
   "cell_type": "markdown",
   "metadata": {},
   "source": [
    "### Stop words 파일 생성"
   ]
  },
  {
   "cell_type": "code",
   "execution_count": 38,
   "metadata": {
    "collapsed": true
   },
   "outputs": [],
   "source": [
    "words = tokenize(frozen_str)\n",
    "counter = Counter(words)"
   ]
  },
  {
   "cell_type": "code",
   "execution_count": 39,
   "metadata": {
    "collapsed": true
   },
   "outputs": [],
   "source": [
    "stop_words = []\n",
    "for k, v in counter.most_common(100):\n",
    "    stop_words.append(k)"
   ]
  },
  {
   "cell_type": "code",
   "execution_count": 71,
   "metadata": {
    "collapsed": false
   },
   "outputs": [],
   "source": [
    "with open('stopwords.txt', 'w') as words :\n",
    "    words.write(','.join(stop_words).encode('utf-8'))"
   ]
  },
  {
   "cell_type": "markdown",
   "metadata": {},
   "source": [
    "### 많이 나오는 단어들"
   ]
  },
  {
   "cell_type": "code",
   "execution_count": 10,
   "metadata": {
    "collapsed": true
   },
   "outputs": [
    {
     "name": "stdout",
     "output_type": "stream",
     "text": [
      "[하다/Verb,\n",
      " 들/Suffix,\n",
      " 있다/Adjective,\n",
      " 되다/Verb,\n",
      " br/Alpha,\n",
      " 아니다/Adjective,\n",
      " 없다/Adjective,\n",
      " ㅋㅋ/KoreanParticle,\n",
      " 것/Noun,\n",
      " 같다/Adjective,\n",
      " 적/Suffix,\n",
      " 사람/Noun,\n",
      " 보다/Verb,\n",
      " 생각/Noun,\n",
      " 말/Noun,\n",
      " 그렇다/Adjective,\n",
      " 글/Noun,\n",
      " 않다/Verb,\n",
      " 그/Noun,\n",
      " 들다/Verb]\n"
     ]
    }
   ],
   "source": [
    "pprint(stop_words[:20])"
   ]
  },
  {
   "cell_type": "code",
   "execution_count": 11,
   "metadata": {
    "collapsed": false
   },
   "outputs": [],
   "source": [
    "words2 = tokenize(unfrozen_str)\n",
    "counter2 = Counter(words2)"
   ]
  },
  {
   "cell_type": "code",
   "execution_count": 8,
   "metadata": {
    "collapsed": false
   },
   "outputs": [],
   "source": [
    "stop_words2 = []\n",
    "for k, v in counter2.most_common(100):\n",
    "    stop_words2.append(k)"
   ]
  },
  {
   "cell_type": "code",
   "execution_count": 10,
   "metadata": {
    "collapsed": true
   },
   "outputs": [
    {
     "name": "stdout",
     "output_type": "stream",
     "text": [
      "[하다/Verb,\n",
      " 있다/Adjective,\n",
      " 들/Suffix,\n",
      " 되다/Verb,\n",
      " 것/Noun,\n",
      " 없다/Adjective,\n",
      " 같다/Adjective,\n",
      " 보다/Verb,\n",
      " 아니다/Adjective,\n",
      " 적/Suffix,\n",
      " 면접/Noun,\n",
      " 사람/Noun,\n",
      " 1/Number,\n",
      " 생각/Noun,\n",
      " 들다/Verb,\n",
      " 않다/Verb,\n",
      " ㅋㅋ/KoreanParticle,\n",
      " 수/Noun,\n",
      " 좋다/Adjective,\n",
      " 2/Number,\n",
      " 다/Adverb,\n",
      " 학교/Noun,\n",
      " 때/Noun,\n",
      " 그렇다/Adjective,\n",
      " 안/VerbPrefix,\n",
      " 뻘뻘/Noun,\n",
      " 말/Noun,\n",
      " 이/Noun,\n",
      " 가다/Verb,\n",
      " 안/Noun,\n",
      " 어떻다/Adjective,\n",
      " 일/Noun,\n",
      " 분/Noun,\n",
      " 3/Number,\n",
      " 나오다/Verb,\n",
      " ㅠㅠ/KoreanParticle,\n",
      " 거/Noun,\n",
      " 내/Noun,\n",
      " 그/Noun,\n",
      " 알다/Verb,\n",
      " 받다/Verb,\n",
      " 이다/Verb,\n",
      " 나/Noun,\n",
      " 서강대/Noun,\n",
      " 뭐/Noun,\n",
      " 좀/Noun,\n",
      " 못/VerbPrefix,\n",
      " 이렇다/Adjective,\n",
      " 우리/Noun,\n",
      " 쓰다/Verb,\n",
      " 진짜/Noun,\n",
      " 너무/Noun,\n",
      " 많다/Adjective,\n",
      " 더/Noun,\n",
      " 님/Suffix,\n",
      " 문제/Noun,\n",
      " 자다/Verb,\n",
      " 예수회/Noun,\n",
      " 지금/Noun,\n",
      " 이다/Adjective,\n",
      " 글/Noun,\n",
      " 저/Noun,\n",
      " 서강/Noun,\n",
      " 오다/Verb,\n",
      " 시간/Noun,\n",
      " 준비/Noun,\n",
      " 4/Number,\n",
      " 싶다/Verb,\n",
      " 시험/Noun,\n",
      " 모르다/Verb,\n",
      " 명/Noun,\n",
      " 년/Noun,\n",
      " 성/Suffix,\n",
      " 대통령/Noun,\n",
      " 하나/Noun,\n",
      " 그냥/Noun,\n",
      " 왜/Noun,\n",
      " 제/Noun,\n",
      " 정도/Noun,\n",
      " 교수/Noun,\n",
      " 등/Noun,\n",
      " 아/Exclamation,\n",
      " 서다/Verb,\n",
      " 10/Number,\n",
      " 오늘/Noun,\n",
      " 다른/Noun,\n",
      " 최순실/Noun,\n",
      " 인적/Noun,\n",
      " 시/Noun,\n",
      " 전/Noun,\n",
      " 개/Noun,\n",
      " 근데/Adverb,\n",
      " 5/Number,\n",
      " 박근혜/Noun,\n",
      " 학생/Noun,\n",
      " 나다/Verb,\n",
      " 요/Noun,\n",
      " 다미/Noun,\n",
      " 먹다/Verb,\n",
      " 이번/Noun]\n"
     ]
    }
   ],
   "source": [
    "pprint(stop_words2)"
   ]
  }
 ],
 "metadata": {
  "kernelspec": {
   "display_name": "Python 2",
   "language": "python",
   "name": "python2"
  },
  "language_info": {
   "codemirror_mode": {
    "name": "ipython",
    "version": 2
   },
   "file_extension": ".py",
   "mimetype": "text/x-python",
   "name": "python",
   "nbconvert_exporter": "python",
   "pygments_lexer": "ipython2",
   "version": "2.7.13"
  }
 },
 "nbformat": 4,
 "nbformat_minor": 2
}
