{
 "cells": [
  {
   "cell_type": "code",
   "execution_count": 1,
   "metadata": {
    "collapsed": true
   },
   "outputs": [],
   "source": [
    "import pandas as pd\n",
    "import numpy as np\n",
    "from sklearn.metrics.pairwise import cosine_similarity\n",
    "import matplotlib.pyplot as plt\n",
    "from collections import OrderedDict"
   ]
  },
  {
   "cell_type": "code",
   "execution_count": 2,
   "metadata": {
    "collapsed": false
   },
   "outputs": [],
   "source": [
    "df_text = pd.read_csv('./text_info0316.csv')"
   ]
  },
  {
   "cell_type": "code",
   "execution_count": 3,
   "metadata": {
    "collapsed": false
   },
   "outputs": [],
   "source": [
    "def get_distance(df, *args):\n",
    "    data_pool = np.array(df.ix[:,1:])\n",
    "    df_form = pd.DataFrame(columns=['input', 'id', 'euclead', 'cosine'])\n",
    "    for i in args:\n",
    "        x_new = np.array(df.ix[df['id']==i])[0][1:]\n",
    "\n",
    "        distance = np.linalg.norm(data_pool - x_new, axis=1)\n",
    "        distance = distance[:,np.newaxis]\n",
    "        cosine = cosine_similarity(data_pool, x_new)\n",
    "\n",
    "        df_distance = pd.concat([df['id'], pd.DataFrame(distance, columns=['euclead']),\n",
    "                                 pd.DataFrame(cosine, columns=['cosine'])], axis=1)\n",
    "        df_distance.sort_values(by='cosine', ascending=False, inplace =True)\n",
    "        df_distance.sort_values(by='euclead', inplace = True)\n",
    "        df_distance = df_distance[1:6]\n",
    "        df_distance.reset_index(drop = True, inplace = True)\n",
    "\n",
    "        df_id = pd.DataFrame(np.array([[i]]*5), columns = ['input'])\n",
    "\n",
    "        df_result = pd.concat([df_id, df_distance], axis=1)\n",
    "        df_form = pd.concat([df_form, df_result], axis=0)\n",
    "    return df_form\n",
    "\n",
    "df = pd.read_csv('./input_variety_weight0314.csv')\n",
    "t1 = get_distance(df, 55930, 38879, 41387, 53536, 45112)"
   ]
  },
  {
   "cell_type": "code",
   "execution_count": null,
   "metadata": {
    "collapsed": false
   },
   "outputs": [],
   "source": [
    "df = pd.read_csv('./input_variety_weight0314.csv')\n",
    "t1 = get_distance(df, 55930, 38879, 41387, 53536, 45112)"
   ]
  },
  {
   "cell_type": "markdown",
   "metadata": {},
   "source": [
    "함수 만들기 전"
   ]
  },
  {
   "cell_type": "code",
   "execution_count": 53,
   "metadata": {
    "collapsed": false
   },
   "outputs": [
    {
     "name": "stderr",
     "output_type": "stream",
     "text": [
      "c:\\python27\\lib\\site-packages\\sklearn\\utils\\validation.py:395: DeprecationWarning: Passing 1d arrays as data is deprecated in 0.17 and will raise ValueError in 0.19. Reshape your data either using X.reshape(-1, 1) if your data has a single feature or X.reshape(1, -1) if it contains a single sample.\n",
      "  DeprecationWarning)\n"
     ]
    }
   ],
   "source": [
    "data_pool = np.array(df.ix[:,1:])\n",
    "x_new = np.array(df.ix[df['id']==50866])[0][1:]\n",
    "\n",
    "distance = np.linalg.norm(data_pool - x_new, axis=1)\n",
    "df['distance_0']=distance\n",
    "\n",
    "cosine = cosine_similarity(data_pool, x_new)\n",
    "df['cosine_0']=cosine\n",
    "\n",
    "df.to_csv('./result/result50866_0314.csv')"
   ]
  },
  {
   "cell_type": "markdown",
   "metadata": {
    "collapsed": true
   },
   "source": [
    "그래프"
   ]
  },
  {
   "cell_type": "code",
   "execution_count": 2,
   "metadata": {
    "collapsed": true
   },
   "outputs": [],
   "source": [
    "df_distance = pd.read_csv('./team3/distance_test.csv')"
   ]
  },
  {
   "cell_type": "code",
   "execution_count": 18,
   "metadata": {
    "collapsed": false
   },
   "outputs": [],
   "source": [
    "distance_plot = pd.concat([df_distance['id'],df_distance.ix[:,-5:]], axis=1)"
   ]
  },
  {
   "cell_type": "code",
   "execution_count": 41,
   "metadata": {
    "collapsed": false
   },
   "outputs": [],
   "source": [
    "d1 = distance_plot.sort_values(by = ['distance_0','cosine_0'], ascending = True)"
   ]
  },
  {
   "cell_type": "code",
   "execution_count": 58,
   "metadata": {
    "collapsed": false
   },
   "outputs": [],
   "source": [
    "d2 = d1[:100]"
   ]
  },
  {
   "cell_type": "code",
   "execution_count": 59,
   "metadata": {
    "collapsed": true
   },
   "outputs": [],
   "source": [
    "leng = d2['distance_0']\n",
    "cos = d2['cosine_0']"
   ]
  },
  {
   "cell_type": "code",
   "execution_count": 60,
   "metadata": {
    "collapsed": true
   },
   "outputs": [],
   "source": [
    "x = cos * leng\n",
    "y = np.sqrt(leng**2 - x**2)"
   ]
  },
  {
   "cell_type": "code",
   "execution_count": 64,
   "metadata": {
    "collapsed": false
   },
   "outputs": [
    {
     "data": {
      "image/png": "[encoded data removed]",
      "text/plain": [
       "<matplotlib.figure.Figure at 0xa0ff870>"
      ]
     },
     "metadata": {},
     "output_type": "display_data"
    }
   ],
   "source": [
    "plt.scatter(x,y)\n",
    "plt.xlim(2,3)\n",
    "plt.ylim(0.5,2.5)\n",
    "plt.grid(True)\n",
    "plt.show()"
   ]
  },
  {
   "cell_type": "code",
   "execution_count": null,
   "metadata": {
    "collapsed": true
   },
   "outputs": [],
   "source": []
  }
 ],
 "metadata": {
  "kernelspec": {
   "display_name": "Python 2",
   "language": "python",
   "name": "python2"
  },
  "language_info": {
   "codemirror_mode": {
    "name": "ipython",
    "version": 2
   },
   "file_extension": ".py",
   "mimetype": "text/x-python",
   "name": "python",
   "nbconvert_exporter": "python",
   "pygments_lexer": "ipython2",
   "version": "2.7.13"
  }
 },
 "nbformat": 4,
 "nbformat_minor": 2
}
