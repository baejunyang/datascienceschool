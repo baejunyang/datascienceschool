{
 "cells": [
  {
   "cell_type": "markdown",
   "metadata": {},
   "source": [
    "# 와인 추천 알고리즘"
   ]
  },
  {
   "cell_type": "markdown",
   "metadata": {},
   "source": [
    "### 1. 데이터 크롤링"
   ]
  },
  {
   "cell_type": "code",
   "execution_count": 19,
   "metadata": {
    "collapsed": true
   },
   "outputs": [],
   "source": [
    "import pandas as pd\n",
    "import numpy as np\n",
    "from collections import OrderedDict\n",
    "from sklearn.feature_extraction.text import CountVectorizer\n",
    "import re\n",
    "import matplotlib.pyplot as plt"
   ]
  },
  {
   "cell_type": "code",
   "execution_count": null,
   "metadata": {
    "collapsed": true
   },
   "outputs": [],
   "source": [
    "from collections import OrderedDict\n",
    "import numpy as np\n",
    "import pandas as pd\n",
    "import requests\n",
    "from bs4 import BeautifulSoup\n",
    "import re\n",
    "\n",
    "class GetText(object):\n",
    "    def __init__(self, ulist, start, end):                  \n",
    "        self.ulist = ulist\n",
    "        self.start = start\n",
    "        self.end = end\n",
    "\n",
    "    def wine_info(self):                        \n",
    "        wine_dict = OrderedDict()              \n",
    "        wine_dict['id'] = []\n",
    "        wine_dict['name'] = []\n",
    "        wine_dict['production1'] = []\n",
    "        wine_dict['production2'] = []\n",
    "        wine_dict['production3'] = []\n",
    "        wine_dict['production4'] = []\n",
    "        wine_dict['type'] = []\n",
    "        wine_dict['alc'] = []\n",
    "        wine_dict['producer'] = []\n",
    "        wine_dict['varieties'] = []\n",
    "        wine_dict['bestfor'] = []\n",
    "        wine_dict['sweetness'] = []\n",
    "        wine_dict['body'] = []\n",
    "        wine_dict['tastingnote'] = []\n",
    "\n",
    "        for i in range(self.start, self.end):                 \n",
    "            url = self.ulist.iloc[i]['URL']         \n",
    "            res = requests.get(url)\n",
    "            soup = BeautifulSoup(res.content)\n",
    "\n",
    "            idnum = re.search(r'\\d{5}', url).group()    \n",
    "            wine_dict['id'].append(idnum)\n",
    "\n",
    "            try:\n",
    "                li0 = soup.find('li', attrs = {'class' : 'WineEndName'})  \n",
    "                wine_name = li0.get_text()\n",
    "                subwine_name = re.sub(r'\\s',' ', wine_name)\n",
    "                wine_dict['name'].append(subwine_name)\n",
    "            except:\n",
    "                wine_dict['name'].append('None')\n",
    "            \n",
    "            try:\n",
    "                li1 = soup.find('li', attrs = {'class' : 'WineProduction'})\n",
    "                a = li1.find_all('a')\n",
    "                for i in range(4):\n",
    "                    if i <= len(a) -1 :\n",
    "                        wine_dict['production{}'.format(i+1)].append(a[i].get_text())\n",
    "                    else :\n",
    "                        wine_dict['production{}'.format(i+1)].append('None')\n",
    "            except:\n",
    "                wine_dict['production1'].append('None')\n",
    "                wine_dict['production2'].append('None')\n",
    "                wine_dict['production3'].append('None')\n",
    "                wine_dict['production4'].append('None')\n",
    "            \n",
    "            try:\n",
    "                li1_1 = soup.find('li', attrs = {'class' : 'WineInfo'})\n",
    "                words = li1_1.get_text().strip()\n",
    "                wine_dict['type'].append(re.search(r'^\\w+', words).group())\n",
    "            except:\n",
    "                wine_dict['type'].append('None')\n",
    "            \n",
    "            try:\n",
    "                li = soup.find('li', attrs = {'class' : 'WineInfo'})\n",
    "                aic = re.search(r'AIC[.\\d]+', li.get_text().strip())\n",
    "                if not aic :\n",
    "                    wine_dict['alc'].append('None')\n",
    "                else :\n",
    "                    wine_dict['alc'].append(aic.group())\n",
    "            except:\n",
    "                wine_dict['alc'].append('None')\n",
    "                \n",
    "            try:\n",
    "                li2 = soup.find('li', attrs = {'class' : 'Winery'}) \n",
    "                producer = li2.a.get_text()\n",
    "                reproducer = re.sub(r'\\s', ' ', producer)\n",
    "                wine_dict['producer'].append(reproducer)\n",
    "            except:\n",
    "                wine_dict['producer'].append('None')                \n",
    "\n",
    "            try:\n",
    "                li3 = soup.find('li', attrs = {'class' : 'Varieties'})\n",
    "                varieties = ''\n",
    "                for var in li3.find_all('a') :\n",
    "                    varieties += var.get_text()\n",
    "                wine_dict['varieties'].append(varieties)\n",
    "            except:\n",
    "                wine_dict['varieties'].append('None')\n",
    "\n",
    "            try:\n",
    "                li4 = soup.find('li', attrs = {'class' : 'BestFor'})\n",
    "                bestfor = li4.get_text()\n",
    "                wine_dict['bestfor'].append(bestfor.strip())\n",
    "            except:\n",
    "                wine_dict['bestfor'].append('None')\n",
    "\n",
    "            \n",
    "            try :\n",
    "                li6 = soup.find('li', attrs = {'class' : 'Sweetness'})\n",
    "                px = li6.find_all('img')[1]['style']\n",
    "                wine_dict['sweetness'].append(re.search(r'\\d+', px).group())\n",
    "            except :\n",
    "                wine_dict['sweetness'].append('None')\n",
    "\n",
    "            try :\n",
    "                li7 = soup.find('li', attrs = {'class' : 'Body'})\n",
    "                px = li7.find_all('img')[1]['style']\n",
    "                wine_dict['body'].append(re.search(r'\\d+', px).group())\n",
    "            except :\n",
    "                wine_dict['body'].append('None')\n",
    "            \n",
    "            try:\n",
    "                ul = soup.find('ul', attrs = {'class' : 'TastingnoteList'}) \n",
    "                note = ul.get_text().strip()\n",
    "                subnote = re.sub(r'\\s', ' ', note)            \n",
    "                wine_dict['tastingnote'].append(subnote)       \n",
    "            except:                                            \n",
    "                wine_dict['tastingnote'].append('None')\n",
    "            \n",
    "        wine_df = pd.DataFrame(wine_dict)       \n",
    "\n",
    "        return wine_df\n",
    "\n",
    "df = pd.read_csv('pd_url_list_short.csv')      \n",
    "    \n",
    "i=0\n",
    "while i<17685:    \n",
    "    wine2 = GetText(df,i,i+1000)            \n",
    "    result = wine2.wine_info()       \n",
    "    try:\n",
    "        writer = pd.ExcelWriter('./wine{}_{}.xlsx'.format(i,i+685), engine=None)\n",
    "        result.to_excel(writer, sheet_name='1', encoding ='utf-8')      \n",
    "        writer.save()\n",
    "        i += 1000\n",
    "    except:\n",
    "        i += 1000\n",
    "        continue        "
   ]
  },
  {
   "cell_type": "markdown",
   "metadata": {},
   "source": [
    "크롤링이 부족한 부분"
   ]
  },
  {
   "cell_type": "markdown",
   "metadata": {},
   "source": [
    "### 2. 부족한 부분 추가로 크롤링"
   ]
  },
  {
   "cell_type": "code",
   "execution_count": null,
   "metadata": {
    "collapsed": true
   },
   "outputs": [],
   "source": [
    "from collections import OrderedDict\n",
    "import numpy as np\n",
    "import pandas as pd\n",
    "import requests\n",
    "from bs4 import BeautifulSoup\n",
    "import re\n",
    "\n",
    "df = pd.read_csv('pd_url_list_short.csv')       #df 변수로 csv 파일을 읽어옵니다.\n",
    "\n",
    "class GetText(object):\n",
    "    def __init__(self, ulist, start, end):                  #나중에 ulist 부분에는 앞에서 정의한 df를 넣어줍니다.\n",
    "        self.ulist = ulist\n",
    "        self.start = start\n",
    "        self.end = end\n",
    "\n",
    "    def wine_info(self):                        #wine_dict는 id, name, production 등등을 key로 갖는 사전.\n",
    "        wine_dict = OrderedDict()               # 각각의 key는 리스트를 value로 갖습니다.\n",
    "        wine_dict['id'] = []\n",
    "        wine_dict['varieties'] = []\n",
    "        wine_dict['tastingnote0'] = []\n",
    "        wine_dict['tastingnote1'] = []\n",
    "        wine_dict['price'] = []\n",
    "\n",
    "        for i in range(self.start, self.end): \n",
    "            url = self.ulist.iloc[i]['URL'] \n",
    "            \n",
    "            try:\n",
    "                res = requests.get(url)\n",
    "                soup = BeautifulSoup(res.content)\n",
    "            except:\n",
    "                wine_dict['id'].append('None')\n",
    "                wine_dict['varieties'].append('None')\n",
    "                wine_dict['tastingnote0'].append('None')\n",
    "                wine_dict['tastingnote1'].append('None')\n",
    "                wine_dict['price'].append('None')\n",
    "                continue\n",
    "\n",
    "            idnum = re.search(r'\\d{5}', url).group()    \n",
    "            wine_dict['id'].append(idnum)\n",
    "\n",
    "            try:\n",
    "                li3 = soup.find('li', attrs = {'class' : 'Varieties'})\n",
    "                varieties = ''\n",
    "                for var in li3.find_all('a') :\n",
    "                    varieties += var.get_text() + ','\n",
    "                wine_dict['varieties'].append(varieties)\n",
    "            except:\n",
    "                wine_dict['varieties'].append('None')\n",
    "            \n",
    "            try:\n",
    "                li = soup.find('li', {'class' : 'Price'})\n",
    "                prices = li.find_all('div')[1].get_text()\n",
    "                reprices = re.search(r'[-.,~\\b\\d]+', prices).group()\n",
    "                wine_dict['price'].append(reprices)\n",
    "            except:\n",
    "                wine_dict['price'].append('None')\n",
    "            \n",
    "            try:\n",
    "                div = soup.find('div', attrs = {'id' : 'TastingnoteCont'}) \n",
    "                note = div.find_all('li', attrs = {'class' : 'TastingnoteContent'})\n",
    "                \n",
    "                if len(note) == 2:\n",
    "                    note0= note[0].get_text().strip()\n",
    "                    subnote0= re.sub(r'\\s', ' ', note0)       \n",
    "                    wine_dict['tastingnote0'].append(subnote0)\n",
    "\n",
    "                    note1= note[1].get_text().strip()\n",
    "                    subnote1 = re.sub(r'\\s', ' ', note1)\n",
    "                    wine_dict['tastingnote1'].append(subnote1)\n",
    "                \n",
    "                elif len(note) == 1:\n",
    "                    wine_dict['tastingnote0'].append('None')\n",
    "                    \n",
    "                    note1= note[1].get_text().strip()\n",
    "                    subnote1 = re.sub(r'\\s', ' ', note1)\n",
    "                    wine_dict['tastingnote1'].append(subnote1)\n",
    "\n",
    "            except:                                            \n",
    "                wine_dict['tastingnote0'].append('None')\n",
    "                wine_dict['tastingnote1'].append('None')\n",
    "            \n",
    "        wine_df = pd.DataFrame(wine_dict) \n",
    "\n",
    "        return wine_df  \n",
    "\n",
    "starts = 0\n",
    "ends = 1000\n",
    "clk = 1000\n",
    "limit = 17000\n",
    "while starts < limit:    \n",
    "    wine2 = GetText(df,starts,ends) \n",
    "    result = wine2.wine_info()       \n",
    "    try:\n",
    "        writer = pd.ExcelWriter('./wines{}_{}.xlsx'.format(starts,ends), engine=None)\n",
    "        result.to_excel(writer, sheet_name='1', encoding ='utf-8') \n",
    "        writer.save()\n",
    "        starts += clk\n",
    "        ends += clk\n",
    "    except:\n",
    "        starts += clk\n",
    "        ends += clk\n",
    "        continue"
   ]
  },
  {
   "cell_type": "markdown",
   "metadata": {},
   "source": [
    "+ 데이터 샘플"
   ]
  },
  {
   "cell_type": "code",
   "execution_count": 5,
   "metadata": {
    "collapsed": false
   },
   "outputs": [
    {
     "data": {
      "text/html": [
       "<div>\n",
       "<table border=\"1\" class=\"dataframe\">\n",
       "  <thead>\n",
       "    <tr style=\"text-align: right;\">\n",
       "      <th></th>\n",
       "      <th>id</th>\n",
       "      <th>name</th>\n",
       "      <th>production1</th>\n",
       "      <th>production2</th>\n",
       "      <th>production3</th>\n",
       "      <th>production4</th>\n",
       "      <th>type</th>\n",
       "      <th>alc</th>\n",
       "      <th>winery</th>\n",
       "      <th>varieties</th>\n",
       "      <th>bestfor</th>\n",
       "      <th>sweetness</th>\n",
       "      <th>body</th>\n",
       "      <th>tastingnote0</th>\n",
       "      <th>tastingnote1</th>\n",
       "      <th>price</th>\n",
       "    </tr>\n",
       "  </thead>\n",
       "  <tbody>\n",
       "    <tr>\n",
       "      <th>0</th>\n",
       "      <td>38671</td>\n",
       "      <td>Chateau Pontet Canet 2007</td>\n",
       "      <td>France</td>\n",
       "      <td>Bordeaux</td>\n",
       "      <td>Pauillac</td>\n",
       "      <td>None</td>\n",
       "      <td>Red</td>\n",
       "      <td>AIC.12.5</td>\n",
       "      <td>Chateau Pontet Canet (샤또 뽕떼 까네)</td>\n",
       "      <td>Cabernet Sauvignon 60%,Merlot 33%,Cabernet Fra...</td>\n",
       "      <td>Table Wine</td>\n",
       "      <td>261</td>\n",
       "      <td>None</td>\n",
       "      <td>그릴에 구운 소고기, 닭고기등 각종 그릴요리와 바베큐 요리와 잘 어울린다.</td>\n",
       "      <td>서양자두와 베리의 향에 약간의 허브향과 더불어 매우 근사한 느낌을 주는 와인이다. ...</td>\n",
       "      <td>250,000</td>\n",
       "    </tr>\n",
       "    <tr>\n",
       "      <th>1</th>\n",
       "      <td>43271</td>\n",
       "      <td>Ata Rangi, Pinot Noir 2006</td>\n",
       "      <td>New Zealand</td>\n",
       "      <td>South Island</td>\n",
       "      <td>Marlborough</td>\n",
       "      <td>None</td>\n",
       "      <td>Red</td>\n",
       "      <td>None</td>\n",
       "      <td>Ata Rangi (아타 랑기)</td>\n",
       "      <td>Pinot Noir 100%,</td>\n",
       "      <td>Table Wine</td>\n",
       "      <td>261</td>\n",
       "      <td>146</td>\n",
       "      <td>각종 육류요리, 치즈 등과 잘 어울린다.</td>\n",
       "      <td>none</td>\n",
       "      <td>180,000</td>\n",
       "    </tr>\n",
       "  </tbody>\n",
       "</table>\n",
       "</div>"
      ],
      "text/plain": [
       "      id                        name  production1   production2  production3  \\\n",
       "0  38671   Chateau Pontet Canet 2007       France      Bordeaux     Pauillac   \n",
       "1  43271  Ata Rangi, Pinot Noir 2006  New Zealand  South Island  Marlborough   \n",
       "\n",
       "  production4 type       alc                           winery  \\\n",
       "0        None  Red  AIC.12.5  Chateau Pontet Canet (샤또 뽕떼 까네)   \n",
       "1        None  Red      None                Ata Rangi (아타 랑기)   \n",
       "\n",
       "                                           varieties     bestfor sweetness  \\\n",
       "0  Cabernet Sauvignon 60%,Merlot 33%,Cabernet Fra...  Table Wine       261   \n",
       "1                                   Pinot Noir 100%,  Table Wine       261   \n",
       "\n",
       "   body                               tastingnote0  \\\n",
       "0  None  그릴에 구운 소고기, 닭고기등 각종 그릴요리와 바베큐 요리와 잘 어울린다.   \n",
       "1   146                     각종 육류요리, 치즈 등과 잘 어울린다.   \n",
       "\n",
       "                                        tastingnote1    price  \n",
       "0  서양자두와 베리의 향에 약간의 허브향과 더불어 매우 근사한 느낌을 주는 와인이다. ...  250,000  \n",
       "1                                               none  180,000  "
      ]
     },
     "execution_count": 5,
     "metadata": {},
     "output_type": "execute_result"
    }
   ],
   "source": [
    "crawling_raw = pd.read_csv('./report/crawling_raw.csv').ix[:,1:]\n",
    "crawling_raw.head(2)"
   ]
  },
  {
   "cell_type": "markdown",
   "metadata": {},
   "source": [
    "### 3. Feature selection\n",
    "+ production1, type, varieties, sweetness, body, tastingnote1 선택\n",
    "+ 선택 이유"
   ]
  },
  {
   "cell_type": "code",
   "execution_count": 7,
   "metadata": {
    "collapsed": false
   },
   "outputs": [
    {
     "data": {
      "text/html": [
       "<div>\n",
       "<table border=\"1\" class=\"dataframe\">\n",
       "  <thead>\n",
       "    <tr style=\"text-align: right;\">\n",
       "      <th></th>\n",
       "      <th>id</th>\n",
       "      <th>production1</th>\n",
       "      <th>type</th>\n",
       "      <th>varieties</th>\n",
       "      <th>sweetness</th>\n",
       "      <th>body</th>\n",
       "      <th>tastingnote1</th>\n",
       "    </tr>\n",
       "  </thead>\n",
       "  <tbody>\n",
       "    <tr>\n",
       "      <th>0</th>\n",
       "      <td>38671</td>\n",
       "      <td>France</td>\n",
       "      <td>Red</td>\n",
       "      <td>Cabernet Sauvignon 60%,Merlot 33%,Cabernet Fra...</td>\n",
       "      <td>261</td>\n",
       "      <td>None</td>\n",
       "      <td>서양자두와 베리의 향에 약간의 허브향과 더불어 매우 근사한 느낌을 주는 와인이다. ...</td>\n",
       "    </tr>\n",
       "  </tbody>\n",
       "</table>\n",
       "</div>"
      ],
      "text/plain": [
       "      id production1 type                                          varieties  \\\n",
       "0  38671      France  Red  Cabernet Sauvignon 60%,Merlot 33%,Cabernet Fra...   \n",
       "\n",
       "  sweetness  body                                       tastingnote1  \n",
       "0       261  None  서양자두와 베리의 향에 약간의 허브향과 더불어 매우 근사한 느낌을 주는 와인이다. ...  "
      ]
     },
     "execution_count": 7,
     "metadata": {},
     "output_type": "execute_result"
    }
   ],
   "source": [
    "crawling_raw = pd.read_csv('./report/crawling_raw.csv').ix[:,['id', 'production1', 'type', 'varieties', 'sweetness', 'body', 'tastingnote1']]\n",
    "crawling_raw.head(1)"
   ]
  },
  {
   "cell_type": "markdown",
   "metadata": {},
   "source": [
    "### 4. Encoding\n",
    "+ production1 -> 구대륙(유럽), 신대륙(유럽 외) 구분\n",
    "+ type -> red, rose, champagne, white로 구분, 1~4로 인코딩\n",
    "+ sweetness, body -> 1~5 단계로 인코딩\n",
    "+ varieties, tastingnote -> Bag of Words 방식 응용"
   ]
  },
  {
   "cell_type": "markdown",
   "metadata": {},
   "source": [
    "### 4-1 : tasting note encoding"
   ]
  },
  {
   "cell_type": "code",
   "execution_count": null,
   "metadata": {
    "collapsed": true
   },
   "outputs": [],
   "source": [
    "#Countvecterizer로 분리\n",
    "source = pd.read_csv('t_note.csv', encoding='cp949')\n",
    "\n",
    "#print source.head()\n",
    "record1 = source['tastingnote1']\n",
    "record2 = source['tastingnote0']\n",
    "\n",
    "vec = CountVectorizer(encoding='utf-8')\n",
    "TF = vec.fit_transform(record2)\n",
    "\n",
    "# TF에 담긴 feature들을 저장한다.\n",
    "feature = vec.get_feature_names()\n",
    "\n",
    "# 문장수, feature수\n",
    "temp1 = TF.data\n",
    "temp2 =TF.indices\n",
    "temp3 =TF.indptr\n",
    "\n",
    "# feature_names 저장 \n",
    "df= pd.DataFrame(feature)\n",
    "\n",
    "writer = pd.ExcelWriter('feature2.xlsx', engine=None)\n",
    "df.to_excel(writer, sheet_name='2', encoding ='utf-8')\n",
    "writer.save()\n",
    "\n",
    "# feature 별 카운트 수\n",
    "dic={'name_index':temp2,'data':temp1}\n",
    "df1= pd.DataFrame(dic)\n",
    "\n",
    "writer = pd.ExcelWriter('testingnote2.xlsx', engine=None)\n",
    "df1.to_excel(writer, sheet_name='1', encoding ='utf-8')\n",
    "writer.save()"
   ]
  },
  {
   "cell_type": "code",
   "execution_count": null,
   "metadata": {
    "collapsed": true
   },
   "outputs": [],
   "source": [
    "tastingnote = pd.read_csv('./report/tastingnote.csv')\n",
    "tastingnote.columns = ['id', 'note']\n",
    "tastingnote_categories = pd.read_csv('./report/categories.csv')\n",
    "df_encoding = pd.DataFrame(categories.columns)\n",
    "\n",
    "for k in range(10):\n",
    "    encoding = np.zeros(17)                    #각 와인별\n",
    "    for j in range(17):                       #각 카테고리별\n",
    "        for i in tastingnote_categories.ix[:,j]:          #카테고리의 향기별\n",
    "            try:\n",
    "                if str(i) in tastingnote.ix[k,1]:       \n",
    "                    encoding[j] += 1\n",
    "            except:\n",
    "                encoding[j] = 'error'\n",
    "                \n",
    "    df_encoding[tastingnote.ix[k,0]] = encoding\n",
    "df_encoding.to_csv('tastingnote_encoded.csv')"
   ]
  },
  {
   "cell_type": "markdown",
   "metadata": {},
   "source": [
    "### 4-2 : varieties encoding"
   ]
  },
  {
   "cell_type": "code",
   "execution_count": 13,
   "metadata": {
    "collapsed": true
   },
   "outputs": [],
   "source": [
    "varieties = pd.read_csv('varieties.csv')\n",
    "varieties.columns = ['id', 'varieties']\n",
    "\n",
    "varieties_categories = pd.read_csv('varieties_categories.csv')\n",
    "df_encoding = pd.DataFrame(varieties_categories.columns)\n",
    "\n",
    "for k in range(len(varieties)):\n",
    "    encoding = np.zeros(20)                    #각 와인별\n",
    "    for j in range(20):                    #각 카테고리별\n",
    "        for i in varieties_categories.ix[:,j]:\n",
    "            if str(i) in varieties.ix[k,1]:\n",
    "                encoding[j] += 1\n",
    "    df_encoding[varieties.ix[k,0]] = encd\n",
    "df_encoding.T.to_csv('varieties_encoded.csv')"
   ]
  },
  {
   "cell_type": "code",
   "execution_count": 16,
   "metadata": {
    "collapsed": false,
    "scrolled": true
   },
   "outputs": [
    {
     "data": {
      "text/html": [
       "<div>\n",
       "<table border=\"1\" class=\"dataframe\">\n",
       "  <thead>\n",
       "    <tr style=\"text-align: right;\">\n",
       "      <th></th>\n",
       "      <th>id</th>\n",
       "      <th>new_old</th>\n",
       "      <th>type</th>\n",
       "      <th>sweet</th>\n",
       "      <th>body</th>\n",
       "      <th>fruits</th>\n",
       "      <th>nuts</th>\n",
       "      <th>flowers</th>\n",
       "      <th>snacks</th>\n",
       "      <th>trees</th>\n",
       "      <th>...</th>\n",
       "      <th>Tempranillo</th>\n",
       "      <th>Malbec</th>\n",
       "      <th>Carmenere</th>\n",
       "      <th>Riesling</th>\n",
       "      <th>Nebbiolo</th>\n",
       "      <th>Mourvedre</th>\n",
       "      <th>Moscato</th>\n",
       "      <th>Semillon</th>\n",
       "      <th>Viognier</th>\n",
       "      <th>1/n</th>\n",
       "    </tr>\n",
       "  </thead>\n",
       "  <tbody>\n",
       "    <tr>\n",
       "      <th>10344</th>\n",
       "      <td>61673</td>\n",
       "      <td>0</td>\n",
       "      <td>1</td>\n",
       "      <td>5</td>\n",
       "      <td>5</td>\n",
       "      <td>3</td>\n",
       "      <td>0</td>\n",
       "      <td>0</td>\n",
       "      <td>0</td>\n",
       "      <td>1</td>\n",
       "      <td>...</td>\n",
       "      <td>0</td>\n",
       "      <td>0</td>\n",
       "      <td>0</td>\n",
       "      <td>0</td>\n",
       "      <td>0</td>\n",
       "      <td>0</td>\n",
       "      <td>0</td>\n",
       "      <td>0</td>\n",
       "      <td>0</td>\n",
       "      <td>1.0</td>\n",
       "    </tr>\n",
       "    <tr>\n",
       "      <th>10345</th>\n",
       "      <td>61674</td>\n",
       "      <td>0</td>\n",
       "      <td>1</td>\n",
       "      <td>5</td>\n",
       "      <td>5</td>\n",
       "      <td>2</td>\n",
       "      <td>0</td>\n",
       "      <td>0</td>\n",
       "      <td>0</td>\n",
       "      <td>1</td>\n",
       "      <td>...</td>\n",
       "      <td>0</td>\n",
       "      <td>0</td>\n",
       "      <td>0</td>\n",
       "      <td>0</td>\n",
       "      <td>0</td>\n",
       "      <td>0</td>\n",
       "      <td>0</td>\n",
       "      <td>0</td>\n",
       "      <td>0</td>\n",
       "      <td>1.0</td>\n",
       "    </tr>\n",
       "  </tbody>\n",
       "</table>\n",
       "<p>2 rows × 43 columns</p>\n",
       "</div>"
      ],
      "text/plain": [
       "          id  new_old  type  sweet  body  fruits  nuts  flowers  snacks  \\\n",
       "10344  61673        0     1      5     5       3     0        0       0   \n",
       "10345  61674        0     1      5     5       2     0        0       0   \n",
       "\n",
       "       trees ...   Tempranillo  Malbec  Carmenere  Riesling  Nebbiolo  \\\n",
       "10344      1 ...             0       0          0         0         0   \n",
       "10345      1 ...             0       0          0         0         0   \n",
       "\n",
       "       Mourvedre  Moscato  Semillon  Viognier  1/n  \n",
       "10344          0        0         0         0  1.0  \n",
       "10345          0        0         0         0  1.0  \n",
       "\n",
       "[2 rows x 43 columns]"
      ]
     },
     "execution_count": 16,
     "metadata": {},
     "output_type": "execute_result"
    }
   ],
   "source": [
    "df_encoded = pd.read_csv('./report/encoded.csv')\n",
    "df_encoded.tail(2)"
   ]
  },
  {
   "cell_type": "markdown",
   "metadata": {},
   "source": [
    "### 5. 거리 기반 분석"
   ]
  },
  {
   "cell_type": "code",
   "execution_count": null,
   "metadata": {
    "collapsed": true
   },
   "outputs": [],
   "source": [
    "df = pd.read_csv('./report/encoded_weight.csv')\n",
    "df_text = pd.read_csv('./report/text_info.csv')\n",
    "\n",
    "def get_distance(df, *args):\n",
    "    data_pool = np.array(df.ix[:,1:])\n",
    "    df_form = pd.DataFrame(columns=['input', 'id', 'euclead', 'cosine'])\n",
    "    for i in args:\n",
    "        x_new = np.array(df.ix[df['id']==i])[0][1:]\n",
    "\n",
    "        distance = np.linalg.norm(data_pool - x_new, axis=1)\n",
    "        distance = distance[:,np.newaxis]\n",
    "        cosine = cosine_similarity(data_pool, x_new)\n",
    "\n",
    "        df_distance = pd.concat([df['id'], pd.DataFrame(distance, columns=['euclead']), pd.DataFrame(cosine, columns=['cosine'])], axis=1)\n",
    "        df_distance.sort_values(by='cosine', ascending=False, inplace =True)\n",
    "        df_distance.sort_values(by='euclead', inplace = True)\n",
    "        df_distance = df_distance[1:6]\n",
    "        df_distance.reset_index(drop = True, inplace = True)\n",
    "\n",
    "        df_id = pd.DataFrame(np.array([[i]]*5), columns = ['input'])\n",
    "\n",
    "        df_result = pd.concat([df_id, df_distance], axis=1)\n",
    "        df_form = pd.concat([df_form, df_result], axis=0)\n",
    "        \n",
    "    return df_form\n",
    "\n",
    "wines = get_distance(df, 55930, 38879, 41387, 53536, 45112)"
   ]
  },
  {
   "cell_type": "markdown",
   "metadata": {},
   "source": [
    "### 6. 시각화"
   ]
  },
  {
   "cell_type": "code",
   "execution_count": 17,
   "metadata": {
    "collapsed": true
   },
   "outputs": [],
   "source": [
    "df = pd.read_csv('./report/encoded.csv')"
   ]
  },
  {
   "cell_type": "code",
   "execution_count": 29,
   "metadata": {
    "collapsed": false
   },
   "outputs": [
    {
     "data": {
      "image/png": "[encoded data removed]",
      "text/plain": [
       "<matplotlib.figure.Figure at 0xd8c16b0>"
      ]
     },
     "metadata": {},
     "output_type": "display_data"
    }
   ],
   "source": [
    "#당도\n",
    "sweet = np.array(df['sweet'], dtype='int32')\n",
    "\n",
    "x = [1,2,3,4,5]\n",
    "y = np.bincount(sweet)[1:]\n",
    "\n",
    "plt.bar(x,y, align='center')\n",
    "plt.xticks([1,2,3,4,5])\n",
    "plt.xlim(0.4, 5.6)\n",
    "plt.title('Sweetness')\n",
    "plt.show()"
   ]
  },
  {
   "cell_type": "code",
   "execution_count": 30,
   "metadata": {
    "collapsed": false
   },
   "outputs": [
    {
     "data": {
      "image/png": "[encoded data removed]",
      "text/plain": [
       "<matplotlib.figure.Figure at 0xd95a1b0>"
      ]
     },
     "metadata": {},
     "output_type": "display_data"
    }
   ],
   "source": [
    "#바디감\n",
    "body = np.array(df['body'], dtype='int32')\n",
    "\n",
    "x = [1,2,3,4,5]\n",
    "y = np.bincount(body)[1:]\n",
    "\n",
    "plt.bar(x,y, align='center')\n",
    "plt.xticks([1,2,3,4,5])\n",
    "plt.xlim(0.4, 5.6)\n",
    "plt.title('Body')\n",
    "plt.show()"
   ]
  },
  {
   "cell_type": "code",
   "execution_count": 33,
   "metadata": {
    "collapsed": false
   },
   "outputs": [
    {
     "data": {
      "image/png": "[encoded data removed]",
      "text/plain": [
       "<matplotlib.figure.Figure at 0xdd5c650>"
      ]
     },
     "metadata": {},
     "output_type": "display_data"
    }
   ],
   "source": [
    "#테이스팅 노트\n",
    "x =df.columns[5:22]\n",
    "y = df[x].sum(axis=0).values\n",
    "\n",
    "plt.barh(np.arange(1,18), y, align = 'center')\n",
    "plt.yticks(np.arange(1,18), np.array(x))\n",
    "plt.title('Tasting note')\n",
    "plt.show()"
   ]
  },
  {
   "cell_type": "code",
   "execution_count": 32,
   "metadata": {
    "collapsed": false
   },
   "outputs": [
    {
     "data": {
      "image/png": "[encoded data removed]",
      "text/plain": [
       "<matplotlib.figure.Figure at 0xd6e3e30>"
      ]
     },
     "metadata": {},
     "output_type": "display_data"
    }
   ],
   "source": [
    "#포도품종\n",
    "x = df.columns[22:-1]\n",
    "y = df[x].sum(axis=0).values\n",
    "\n",
    "plt.barh(np.arange(1,21), y, align = 'center')\n",
    "plt.yticks(np.arange(1,21), np.array(x))\n",
    "plt.ylim(0,21)\n",
    "plt.title('Varieties')\n",
    "plt.show()"
   ]
  }
 ],
 "metadata": {
  "kernelspec": {
   "display_name": "Python 2",
   "language": "python",
   "name": "python2"
  },
  "language_info": {
   "codemirror_mode": {
    "name": "ipython",
    "version": 2
   },
   "file_extension": ".py",
   "mimetype": "text/x-python",
   "name": "python",
   "nbconvert_exporter": "python",
   "pygments_lexer": "ipython2",
   "version": "2.7.13"
  }
 },
 "nbformat": 4,
 "nbformat_minor": 2
}
