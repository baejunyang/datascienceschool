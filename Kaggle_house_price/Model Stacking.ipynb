{
 "cells": [
  {
   "cell_type": "markdown",
   "metadata": {},
   "source": [
    "## 1 Preprocessing\n",
    "- null값이 대부분인 변수 제거\n",
    "- 남은 변수의 null값 채우기\n",
    "- skewed data 로그 변환\n",
    "- category 변수 인코딩"
   ]
  },
  {
   "cell_type": "code",
   "execution_count": 6,
   "metadata": {
    "collapsed": true
   },
   "outputs": [],
   "source": [
    "from scipy.stats import skew"
   ]
  },
  {
   "cell_type": "code",
   "execution_count": 180,
   "metadata": {
    "collapsed": false
   },
   "outputs": [],
   "source": [
    "def preprocess(train, test):\n",
    "    outlier_idx=[   4,   11,   13,   30,   53,   66,  112,  142,  151,  153,  185,\n",
    "        199,  218,  224,  231,  238,  261,  271,  313,  318,  328,  377,\n",
    "        410,  440,  451,  454,  457,  462,  473,  488,  496,  523,  529,\n",
    "        559,  568,  581,  583,  588,  595,  607,  608,  628,  632,  666,\n",
    "        681,  688,  691,  692,  714,  738,  747,  769,  774,  803,  825,\n",
    "        864,  885,  898,  970,  990, 1046, 1065, 1142, 1169, 1181, 1182,\n",
    "       1211, 1298, 1322, 1324, 1328, 1359, 1423, 1442, 1453]\n",
    "    train.drop(train.index[outlier_idx], inplace=True)\n",
    "    \n",
    "    all_data = pd.concat([train.loc[:,'MSSubClass':'SaleCondition'], test.loc[:,'MSSubClass':'SaleCondition']])\n",
    "    \n",
    "    to_delete = ['Alley','FireplaceQu','PoolQC','Fence','MiscFeature']\n",
    "    all_data.drop(to_delete, axis=1, inplace = True)\n",
    "    \n",
    "    #log transform\n",
    "    numeric_feats = all_data.dtypes[all_data.dtypes != \"object\"].index\n",
    "    skewness = all_data[numeric_feats].apply(lambda x : skew(x.dropna()))\n",
    "    skewed_feats = skewness[skewness>0.75].index\n",
    "    all_data[skewed_feats] = np.log1p(all_data[skewed_feats])\n",
    "    \n",
    "    #encode categorical data\n",
    "    all_data=pd.get_dummies(all_data)\n",
    "    \n",
    "    #fillna\n",
    "    all_data = all_data.fillna(all_data.mean())\n",
    "    \n",
    "    X_train = all_data[:train.shape[0]]\n",
    "    X_test = all_data[train.shape[0]:]\n",
    "    y_train = np.log1p(train.SalePrice)\n",
    "    \n",
    "    return X_train, X_test, y_train"
   ]
  },
  {
   "cell_type": "markdown",
   "metadata": {},
   "source": [
    "## 2 Detect Outliers\n",
    "+ 아웃라이어 제거 없이 예측 후, 실제 값과 예측값이 크게 벗어나는 데이터 제거"
   ]
  },
  {
   "cell_type": "code",
   "execution_count": 67,
   "metadata": {
    "collapsed": true
   },
   "outputs": [],
   "source": [
    "from sklearn.ensemble import IsolationForest\n",
    "from sklearn.covariance import EllipticEnvelope"
   ]
  },
  {
   "cell_type": "code",
   "execution_count": 176,
   "metadata": {
    "collapsed": false
   },
   "outputs": [],
   "source": [
    "train_pred = pd.read_csv('./data/train_pred.csv')\n",
    "dif = np.abs(train_pred.SalePrice.values - df_train.SalePrice.values)\n",
    "dif = dif > 40000\n",
    "outlier_idx = np.where(dif)[0]"
   ]
  },
  {
   "cell_type": "markdown",
   "metadata": {},
   "source": [
    "## 3 Make models"
   ]
  },
  {
   "cell_type": "code",
   "execution_count": 82,
   "metadata": {
    "collapsed": false
   },
   "outputs": [],
   "source": [
    "from sklearn.grid_search import GridSearchCV\n",
    "from sklearn.cross_validation import KFold, train_test_split\n",
    "from sklearn.metrics import make_scorer, mean_squared_error\n",
    "from sklearn.ensemble import RandomForestRegressor, GradientBoostingRegressor, ExtraTreesRegressor\n",
    "from sklearn.linear_model import Ridge, RidgeCV, ElasticNet, LassoCV, LassoLarsCV, Lasso\n",
    "from sklearn.svm import SVR"
   ]
  },
  {
   "cell_type": "markdown",
   "metadata": {},
   "source": [
    "### 3_1 make scorer\n",
    "+ 모델 성능 평가 기준을 kaggle 평가 기준인 Root mean square error로 만들어준다"
   ]
  },
  {
   "cell_type": "code",
   "execution_count": 9,
   "metadata": {
    "collapsed": true
   },
   "outputs": [],
   "source": [
    "def error(real_value, prediction):\n",
    "    return mean_squared_error(real_value,prediction)**0.5\n",
    "\n",
    "RMSE = make_scorer(error, greater_is_better=False)"
   ]
  },
  {
   "cell_type": "markdown",
   "metadata": {},
   "source": [
    "### 3_2 hyper-parameter tuning\n",
    "+ 개별 모형들에 대해 가장 높은 점수가 나오는 hyper parameter를 찾는다\n",
    "+ 개별 모형들은 밑에서 base_models로 사용된다"
   ]
  },
  {
   "cell_type": "code",
   "execution_count": 191,
   "metadata": {
    "collapsed": false
   },
   "outputs": [],
   "source": [
    "def random_forest(X_train, X_test):\n",
    "    rfr = RandomForestRegressor(random_state=0)\n",
    "    param_grid = {'n_estimators':[500,600,700], 'max_features':[10, 15, 20, 25, 30], 'max_depth':[5, 7, 9, 11, 13]}\n",
    "    model = GridSearchCV(estimator=rfr, param_grid=param_grid, n_jobs=1, cv=4, scoring=RMSE)\n",
    "    model.fit(X_train, y_train)\n",
    "    \n",
    "    print 'best score:'\n",
    "    print model.best_score_\n",
    "    print\n",
    "    print 'best params:'\n",
    "    print model.best_params_\n",
    "    \n",
    "def gradient_boosting(X_train, X_test):\n",
    "    gbr = GradientBoostingRegressor(random_state=0)\n",
    "    param_grid = {'n_estimators': [500],'max_features': [10,15],'max_depth': [6,8,10],'learning_rate': [0.05,0.1,0.15],'subsample': [0.8]}\n",
    "    model = GridSearchCV(estimator=gbr, param_grid=param_grid, n_jobs=1, cv=10, scoring=RMSE)\n",
    "    model.fit(X_train, y_train)\n",
    "    print 'best score:'\n",
    "    print model.best_score_\n",
    "    print\n",
    "    print 'best params:'\n",
    "    print model.best_params_\n",
    "\n",
    "def extra_trees(X_train, X_test):\n",
    "    etr=ExtraTreesRegressor(random_state=0)\n",
    "    param_grid = {'n_estimators': [500,600,700], 'max_features': [10,15,20]}\n",
    "    model = GridSearchCV(estimator=etr, param_grid=param_grid, n_jobs=2, cv=4, scoring=RMSE)\n",
    "    model.fit(X_train, y_train)\n",
    "    print 'best score:'\n",
    "    print model.best_score_\n",
    "    print\n",
    "    print 'best params:'\n",
    "    print model.best_params_\n",
    "\n",
    "def elastic_net(X_train, X_test):\n",
    "    eln = ElasticNet(random_state=0)\n",
    "    param_grid = {'l1_ratio': [0.3,0.4,0.5, 0.7], 'alpha':[0.0005, 0.001 ,0.01 ,0.1, 0.5, 1]}\n",
    "    model = GridSearchCV(estimator=eln, param_grid=param_grid, cv=5, scoring=RMSE)\n",
    "    model.fit(X_train, y_train)\n",
    "    print model.best_score_\n",
    "    print model.best_params_\n",
    "\n",
    "def svr(X_train, X_test):\n",
    "    svr = SVR('linear')\n",
    "    param_grid = {'C':[0.1, 0.5, 1, 2, 5] }\n",
    "    model = GridSearchCV(estimator=svr, param_grid=param_grid, cv=5, n_jobs=1, scoring=RMSE)\n",
    "    model.fit(X_train, y_train)\n",
    "    print model.best_score_\n",
    "    print model.best_params_\n",
    "    \n",
    "def lasso(X_train, X_test):\n",
    "    lasso = Lasso(random_state=0)\n",
    "    model = GridSearchCV(estimator=lasso, param_grid={'alpha':[0.0001, 0.0005, 0.001, 0.005, 0.01, 0.05]}, cv=5, scoring=RMSE)\n",
    "    moel.fit(X_train, X_test)\n",
    "    print model.best_score_\n",
    "    print model.best_params_"
   ]
  },
  {
   "cell_type": "markdown",
   "metadata": {},
   "source": [
    "### 3_3 stacking models\n",
    "+ 5개의 모형을 사용해서 1차로 train을 시킨다\n",
    "+ Ridge 모형으로 1차로 train된 데이터를 사용해서 다시 train 시켜서 최종 결과를 도출한다"
   ]
  },
  {
   "cell_type": "code",
   "execution_count": 189,
   "metadata": {
    "collapsed": true
   },
   "outputs": [],
   "source": [
    "def stacking(X_train, X_test, y_train):\n",
    "    base_models=[RandomForestRegressor(n_estimators=600,max_features=80,max_depth=19,random_state=0),\n",
    "                 GradientBoostingRegressor(n_estimators=1500, max_features=13, max_depth=3, learning_rate=0.05, random_state=0),\n",
    "                 Lasso(alpha= 0.0005),\n",
    "                 SVR(C=15, gamma=0.00005),\n",
    "                 ExtraTreesRegressor(max_features=160,n_estimators=1050,max_depth=30,random_state=0)]\n",
    "    X = X_train.values\n",
    "    y = y_train.values\n",
    "    T = X_test.values\n",
    "\n",
    "    folds = KFold(len(y), n_folds=5, shuffle=True, random_state=0)\n",
    "\n",
    "    S_train = np.zeros((X.shape[0],len(base_models)))\n",
    "    S_test = np.zeros((T.shape[0],len(base_models)))\n",
    "    for i, reg in enumerate(base_models):\n",
    "        S_test_i = np.zeros((T.shape[0],5))\n",
    "        print 'stage = {}/5'.format(i+1)\n",
    "        for j, (train_idx, test_idx) in enumerate(folds):\n",
    "            X_train = X[train_idx]\n",
    "            y_train = y[train_idx]\n",
    "            X_holdout = X[test_idx]\n",
    "\n",
    "            reg.fit(X_train, y_train)\n",
    "            y_pred= reg.predict(X_holdout)\n",
    "            S_train[test_idx,i] = y_pred\n",
    "            S_test_i[:,j] = reg.predict(T)\n",
    "            print '  fold = {}/5'.format(j+1)\n",
    "        S_test[:,i] = S_test_i.mean(1)\n",
    "\n",
    "    param_grid = {'alpha':[0.001, 0.005, 0.01, 0.05, 0.1, 0.5, 1, 1.5,1.7, 2, 2.3, 2.5, 2.7]}\n",
    "    model = GridSearchCV(estimator=Ridge(),param_grid=param_grid, cv=5, scoring=RMSE)\n",
    "    model.fit(S_train, y)\n",
    "    y_pred = model.predict(S_test)\n",
    "    \n",
    "    return np.expm1(y_pred)"
   ]
  },
  {
   "cell_type": "markdown",
   "metadata": {},
   "source": [
    "## 4 Run stacking model, make submission file"
   ]
  },
  {
   "cell_type": "code",
   "execution_count": null,
   "metadata": {
    "collapsed": true
   },
   "outputs": [],
   "source": [
    "df_train = pd.read_csv('./data/train.csv')\n",
    "df_test = pd.read_csv('./data/test.csv')\n",
    "X_train, X_test, y_train = preprocess(df_train,df_test)\n",
    "\n",
    "submission = pd.DataFrame({'Id':df_test.Id.values, 'SalePrice':y_pred})\n",
    "submission.to_csv('submission.csv', index=False)"
   ]
  }
 ],
 "metadata": {
  "kernelspec": {
   "display_name": "Python 2",
   "language": "python",
   "name": "python2"
  },
  "language_info": {
   "codemirror_mode": {
    "name": "ipython",
    "version": 2
   },
   "file_extension": ".py",
   "mimetype": "text/x-python",
   "name": "python",
   "nbconvert_exporter": "python",
   "pygments_lexer": "ipython2",
   "version": "2.7.13"
  }
 },
 "nbformat": 4,
 "nbformat_minor": 2
}
