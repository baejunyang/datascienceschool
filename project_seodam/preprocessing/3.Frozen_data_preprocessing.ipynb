{
 "cells": [
  {
   "cell_type": "code",
   "execution_count": 2,
   "metadata": {
    "collapsed": true
   },
   "outputs": [],
   "source": [
    "from bs4 import BeautifulSoup"
   ]
  },
  {
   "cell_type": "markdown",
   "metadata": {},
   "source": [
    "### bs4를 통해 게시글에서 태그 제거"
   ]
  },
  {
   "cell_type": "code",
   "execution_count": 215,
   "metadata": {
    "collapsed": true
   },
   "outputs": [],
   "source": [
    "df = pd.read_csv('./files/seodam_notnull.csv')"
   ]
  },
  {
   "cell_type": "code",
   "execution_count": 216,
   "metadata": {
    "collapsed": false
   },
   "outputs": [],
   "source": [
    "def remove_tags(df):\n",
    "    new_col = []\n",
    "    for i in range(1316):\n",
    "        try:\n",
    "            soup = BeautifulSoup(df.ix[i,'내용'], from_encoding = 'utf-8')\n",
    "            text = soup.get_text().strip()\n",
    "            new_col.append(text)\n",
    "        except:\n",
    "            new_col.append('error')\n",
    "    return new_col"
   ]
  },
  {
   "cell_type": "code",
   "execution_count": 217,
   "metadata": {
    "collapsed": false
   },
   "outputs": [],
   "source": [
    "df2 = pd.DataFrame(remove_tags(df), columns=['body'])"
   ]
  },
  {
   "cell_type": "code",
   "execution_count": 80,
   "metadata": {
    "collapsed": false
   },
   "outputs": [],
   "source": [
    "writer = pd.ExcelWriter('remove_tag(test).xlsx', engine=None)\n",
    "df2.to_excel(writer, sheet_name='1', encoding ='utf-8')      # 결과를 엑셀로 저장\n",
    "writer.save()"
   ]
  },
  {
   "cell_type": "markdown",
   "metadata": {},
   "source": [
    "### 빈 게시글 제거"
   ]
  },
  {
   "cell_type": "code",
   "execution_count": 169,
   "metadata": {
    "collapsed": false
   },
   "outputs": [],
   "source": [
    "df_del = pd.read_csv('./files/seodam_del.csv')"
   ]
  },
  {
   "cell_type": "code",
   "execution_count": 171,
   "metadata": {
    "collapsed": false
   },
   "outputs": [],
   "source": [
    "df_del = df_del.drop([48])\n",
    "to_del = [467]\n",
    "for i in range(56):    \n",
    "    x = np.array(df_del)[i,0]\n",
    "    to_del.append(x)"
   ]
  },
  {
   "cell_type": "code",
   "execution_count": 184,
   "metadata": {
    "collapsed": false
   },
   "outputs": [],
   "source": [
    "df_droped = df.drop(to_del)        #태그 제거 안된 data\n",
    "df2_droped = df2.drop(to_del)      #태그 제거된 data"
   ]
  },
  {
   "cell_type": "markdown",
   "metadata": {},
   "source": [
    "### clean_data_seodam.csv에 태그 제거된 data 저장 (제목, 내용, 냉동 개수, 날짜)"
   ]
  },
  {
   "cell_type": "code",
   "execution_count": 200,
   "metadata": {
    "collapsed": false
   },
   "outputs": [],
   "source": [
    "clean_data_seodam = pd.concat([df_droped, df2_droped], axis = 1)\n",
    "clean_data_seodam2 = clean_data_seodam.drop(['내용',0], axis = 1)"
   ]
  },
  {
   "cell_type": "code",
   "execution_count": 204,
   "metadata": {
    "collapsed": false
   },
   "outputs": [],
   "source": [
    "writer = pd.ExcelWriter('seodam_cleaned0307.xlsx', engine=None)\n",
    "clean_data_seodam.to_excel(writer, sheet_name='1', encoding ='utf-8')      # 결과를 엑셀로 저장\n",
    "writer.save()"
   ]
  },
  {
   "cell_type": "code",
   "execution_count": 212,
   "metadata": {
    "collapsed": false
   },
   "outputs": [],
   "source": [
    "writer = pd.ExcelWriter('seodam_cleaned_short0307.xlsx', engine=None)\n",
    "clean_data_seodam2.to_excel(writer, sheet_name='1', encoding ='utf-8')      # 결과를 엑셀로 저장\n",
    "writer.save()"
   ]
  },
  {
   "cell_type": "markdown",
   "metadata": {},
   "source": [
    "### 제목과 내용을 한 column으로 합친다"
   ]
  },
  {
   "cell_type": "code",
   "execution_count": 213,
   "metadata": {
    "collapsed": true
   },
   "outputs": [],
   "source": [
    "df33 = pd.read_csv('seodam_cleaned_short0307.csv')\n",
    "df33 = df33.drop(['Unnamed: 0'], axis=1)"
   ]
  },
  {
   "cell_type": "code",
   "execution_count": 232,
   "metadata": {
    "collapsed": false
   },
   "outputs": [],
   "source": [
    "df33['text'] = df33['제목'].map(str) + ' ' + df33['body']"
   ]
  },
  {
   "cell_type": "code",
   "execution_count": 235,
   "metadata": {
    "collapsed": false
   },
   "outputs": [],
   "source": [
    "seodam_preprocess_done0307 = df33.drop(['제목', 'body'], axis = 1)"
   ]
  },
  {
   "cell_type": "code",
   "execution_count": 236,
   "metadata": {
    "collapsed": true
   },
   "outputs": [],
   "source": [
    "seodam_preprocess_done0307.to_csv('seodam_preprocess_done0307.csv')"
   ]
  },
  {
   "cell_type": "markdown",
   "metadata": {},
   "source": [
    "### 댓글 태그 제거"
   ]
  },
  {
   "cell_type": "code",
   "execution_count": 33,
   "metadata": {
    "collapsed": true
   },
   "outputs": [],
   "source": [
    "reply0 = pd.read_csv('./files/seodam_re_eidited.csv')"
   ]
  },
  {
   "cell_type": "code",
   "execution_count": 34,
   "metadata": {
    "collapsed": false
   },
   "outputs": [],
   "source": [
    "reply0.columns = ['text', 'freeze']"
   ]
  },
  {
   "cell_type": "code",
   "execution_count": 35,
   "metadata": {
    "collapsed": false
   },
   "outputs": [],
   "source": [
    "df1 = reply0['text']\n",
    "df2 = reply0['freeze']\n",
    "no_tags = []\n",
    "for i in df1:\n",
    "    soup = BeautifulSoup(i, from_encoding='utf-8')\n",
    "    no_tags.append(soup.get_text().encode('utf-8'))\n",
    "df3 = pd.DataFrame(no_tags, columns=['text'])\n",
    "reply = pd.concat([df2, df3], axis = 1)"
   ]
  },
  {
   "cell_type": "code",
   "execution_count": 51,
   "metadata": {
    "collapsed": true
   },
   "outputs": [],
   "source": [
    "reply = reply.drop(reply.index[50])"
   ]
  },
  {
   "cell_type": "code",
   "execution_count": 57,
   "metadata": {
    "collapsed": false
   },
   "outputs": [],
   "source": [
    "reply.to_csv('./files/seodam_re_notags0323.csv')"
   ]
  }
 ],
 "metadata": {
  "kernelspec": {
   "display_name": "Python 2",
   "language": "python",
   "name": "python2"
  },
  "language_info": {
   "codemirror_mode": {
    "name": "ipython",
    "version": 2
   },
   "file_extension": ".py",
   "mimetype": "text/x-python",
   "name": "python",
   "nbconvert_exporter": "python",
   "pygments_lexer": "ipython2",
   "version": "2.7.13"
  }
 },
 "nbformat": 4,
 "nbformat_minor": 2
}
