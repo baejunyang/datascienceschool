{
 "cells": [
  {
   "cell_type": "code",
   "execution_count": 18,
   "metadata": {
    "collapsed": false
   },
   "outputs": [],
   "source": [
    "frozen0 = pd.read_csv('./private/files/seodam_together_notags0326.csv').drop('Unnamed: 0', axis=1)\n",
    "comments0 = pd.read_csv('./private/files/comments/unfrozen_comments0403.csv').drop('Unnamed: 0', axis=1)\n",
    "main0 = pd.read_csv('./private/files/main/unfrozen0402.csv').drop(['Unnamed: 0', 'Unnamed: 0.1'], axis=1)"
   ]
  },
  {
   "cell_type": "code",
   "execution_count": 20,
   "metadata": {
    "collapsed": true
   },
   "outputs": [],
   "source": [
    "frozen = ' '.join(frozen0.text.values)\n",
    "comments = ' '.join(comments0.text2.values)\n",
    "main = ' '.join(main0.text2.values)"
   ]
  },
  {
   "cell_type": "code",
   "execution_count": 22,
   "metadata": {
    "collapsed": true
   },
   "outputs": [],
   "source": [
    "corpus = frozen + ' ' + comments + ' ' + main"
   ]
  },
  {
   "cell_type": "code",
   "execution_count": 25,
   "metadata": {
    "collapsed": false
   },
   "outputs": [],
   "source": [
    "with open('corpus.txt', 'w') as corp :\n",
    "    corp.write(corpus)"
   ]
  }
 ],
 "metadata": {
  "kernelspec": {
   "display_name": "Python 2",
   "language": "python",
   "name": "python2"
  },
  "language_info": {
   "codemirror_mode": {
    "name": "ipython",
    "version": 2
   },
   "file_extension": ".py",
   "mimetype": "text/x-python",
   "name": "python",
   "nbconvert_exporter": "python",
   "pygments_lexer": "ipython2",
   "version": "2.7.13"
  }
 },
 "nbformat": 4,
 "nbformat_minor": 2
}
