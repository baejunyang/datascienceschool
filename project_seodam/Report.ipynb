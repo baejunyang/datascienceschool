{
 "cells": [
  {
   "cell_type": "markdown",
   "metadata": {},
   "source": [
    "### 1. Crawling data from community website"
   ]
  },
  {
   "cell_type": "code",
   "execution_count": null,
   "metadata": {
    "collapsed": true
   },
   "outputs": [],
   "source": [
    "chromedriver = './files/chromedriver'\n",
    "driver = webdriver.Chrome(chromedriver)\n",
    "driver.get('http://www.ssodam.com/')\n",
    "\n",
    "button = driver.find_element_by_css_selector(\"a[data-target='#loginModal']\")\n",
    "button.click()\n",
    "\n",
    "wait = WebDriverWait(driver,10)\n",
    "\n",
    "email = wait.until(EC.visibility_of_element_located((By.CSS_SELECTOR, \"input[class='form-control']\")))\n",
    "email.clear()\n",
    "email.send_keys('****')\n",
    "\n",
    "password = driver.find_element_by_css_selector(\"input[placeholder='Password']\")\n",
    "password.clear()\n",
    "password.send_keys('****')\n",
    "\n",
    "login = driver.find_element_by_css_selector(\"input[class='submit btn btn-default']\")\n",
    "login.click()\n",
    "\n",
    "time.sleep(1)\n",
    "\n",
    "alert = driver.switch_to_alert()\n",
    "alert.accept()\n",
    "\n",
    "crawl = OrderedDict()\n",
    "crawl['title'] = []\n",
    "crawl['body'] = []\n",
    "crawl['date'] = []\n",
    "for i in range(213249, 223249):\n",
    "    driver.get('http://www.ssodam.com/content/{}'.format(i))\n",
    "    try:\n",
    "        title = driver.find_element_by_xpath(\"//div[@class='board-title']\")\n",
    "        body = driver.find_element_by_xpath(\"//div[@class='board-content mverdana']\")\n",
    "        date = driver.find_element_by_xpath(\"//div[@class='board-date row col-lg-3 col-xs-12 desktop-hide']\")\n",
    "    except:\n",
    "        crawl['title'].append('empty')\n",
    "        crawl['body'].append('empty')\n",
    "        crawl['date'].append('empty')\n",
    "        continue\n",
    "    \n",
    "    try:\n",
    "        crawl['title'].append(title.text.encode('utf-8'))\n",
    "        crawl['body'].append(body.text.encode('utf-8'))\n",
    "        crawl['date'].append(date.text.encode('utf-8'))\n",
    "    except :\n",
    "        continue\n",
    "\n",
    "df_crawl = pd.DataFrame(crawl)\n",
    "df_crawl.to_csv('crawl213249_223249.csv')"
   ]
  },
  {
   "cell_type": "markdown",
   "metadata": {},
   "source": [
    "### 2. Counting words used frequently"
   ]
  },
  {
   "cell_type": "code",
   "execution_count": null,
   "metadata": {
    "collapsed": true
   },
   "outputs": [],
   "source": [
    "df_frozen = pd.read_csv('./files/seodam_together_notags0322.csv').drop(['Unnamed: 0'], axis=1)\n",
    "df_unfrozen = pd.read_csv('./files/unfrozen2_3500.csv').drop(['Unnamed: 0'], axis=1)\n",
    "\n",
    "tagger = Twitter()\n",
    "def tokenize(doc):\n",
    "    token_list = []\n",
    "    for t in tagger.pos(doc, norm=True, stem=True):\n",
    "        if t[1] != 'Josa' and t[1] != 'Punctuation' and t[1] != 'Determiner' and t[1] != 'URL' :\n",
    "            token_list.append('/'.join(t))\n",
    "    return token_list\n",
    "\n",
    "frozen = np.array(df_frozen['text'])\n",
    "frozen_str = ' '.join(frozen).decode('utf-8')\n",
    "unfrozen = np.array(df_unfrozen['text2'])\n",
    "unfrozen_str = ' '.join(unfrozen).decode('utf-8')\n",
    "\n",
    "words = tokenize(frozen_str)\n",
    "counter = Counter(words)\n",
    "stop_words = []\n",
    "for k, v in counter.most_common(100):\n",
    "    stop_words.append(k)\n",
    "\n",
    "words2 = tokenize(unfrozen_str)\n",
    "counter2 = Counter(words2)\n",
    "stop_words2 = []\n",
    "for k, v in counter2.most_common(100):\n",
    "    stop_words2.append(k)\n",
    "    \n",
    "pprint(stop_words)\n",
    "print '*' * 50\n",
    "pprint(stop_words2)"
   ]
  },
  {
   "cell_type": "markdown",
   "metadata": {},
   "source": [
    "### 3. BOW encoding and fitting model"
   ]
  },
  {
   "cell_type": "markdown",
   "metadata": {},
   "source": [
    "+ using nouns only"
   ]
  },
  {
   "cell_type": "code",
   "execution_count": 2,
   "metadata": {
    "collapsed": false
   },
   "outputs": [
    {
     "name": "stdout",
     "output_type": "stream",
     "text": [
      "             precision    recall  f1-score   support\n",
      "\n",
      "          0       0.83      0.69      0.75       316\n",
      "          1       0.74      0.86      0.79       327\n",
      "\n",
      "avg / total       0.78      0.77      0.77       643\n",
      "\n",
      "**************************************************\n",
      "[[217  99]\n",
      " [ 46 281]]\n"
     ]
    }
   ],
   "source": [
    "df_frozen = pd.read_csv('./files/seodam_together_notags0323.csv').drop(['Unnamed: 0'], axis=1)\n",
    "df_unfrozen = pd.read_csv('./files/unfrozen2_3500.csv').drop(['Unnamed: 0'], axis=1)[:3213]\n",
    "\n",
    "unfrozen = np.array(df_unfrozen['text2'])\n",
    "frozen = np.array(df_frozen['text'])\n",
    "seodam_x = np.append(unfrozen, frozen)\n",
    "seodam_y = np.append(np.zeros(3213, dtype=int), np.ones(3213, dtype=int))\n",
    "\n",
    "X_train, X_test, y_train, y_test = train_test_split(seodam_x, seodam_y, test_size=0.1, random_state=2)\n",
    "\n",
    "pos_tagger = Twitter()\n",
    "def tokenize(doc):\n",
    "    return pos_tagger.nouns(doc)\n",
    "\n",
    "vect = CountVectorizer(tokenizer=tokenize)\n",
    "vect.fit(X_train)\n",
    "X_train = vect.transform(X_train)\n",
    "X_test = vect.transform(X_test)\n",
    "\n",
    "clf = MultinomialNB()\n",
    "clf.fit(X_train, y_train)\n",
    "\n",
    "result = clf.predict(X_test)\n",
    "\n",
    "print classification_report(y_test, result)\n",
    "print '*' * 50\n",
    "print confusion_matrix(y_test, result)"
   ]
  },
  {
   "cell_type": "markdown",
   "metadata": {},
   "source": [
    "+ using all tags"
   ]
  },
  {
   "cell_type": "code",
   "execution_count": 3,
   "metadata": {
    "collapsed": false
   },
   "outputs": [
    {
     "name": "stdout",
     "output_type": "stream",
     "text": [
      "             precision    recall  f1-score   support\n",
      "\n",
      "          0       0.83      0.78      0.80       316\n",
      "          1       0.80      0.84      0.82       327\n",
      "\n",
      "avg / total       0.81      0.81      0.81       643\n",
      "\n",
      "**************************************************\n",
      "[[246  70]\n",
      " [ 51 276]]\n"
     ]
    }
   ],
   "source": [
    "df_frozen = pd.read_csv('./files/seodam_together_notags0323.csv').drop(['Unnamed: 0'], axis=1)\n",
    "df_unfrozen = pd.read_csv('./files/unfrozen2_3500.csv').drop(['Unnamed: 0'], axis=1)[:3213]\n",
    "\n",
    "unfrozen = np.array(df_unfrozen['text2'])\n",
    "frozen = np.array(df_frozen['text'])\n",
    "seodam_x = np.append(unfrozen, frozen)\n",
    "seodam_y = np.append(np.zeros(3213, dtype=int), np.ones(3213, dtype=int))\n",
    "\n",
    "X_train, X_test, y_train, y_test = train_test_split(seodam_x, seodam_y, test_size=0.1, random_state=2)\n",
    "\n",
    "pos_tagger = Twitter()\n",
    "def tokenize(doc):\n",
    "    return ['/'.join(t) for t in pos_tagger.pos(doc, norm=True, stem=True)]\n",
    "\n",
    "vect = CountVectorizer(tokenizer=tokenize)\n",
    "vect.fit(X_train)\n",
    "X_train = vect.transform(X_train)\n",
    "X_test = vect.transform(X_test)\n",
    "\n",
    "clf = MultinomialNB()\n",
    "clf.fit(X_train, y_train)\n",
    "\n",
    "result = clf.predict(X_test)\n",
    "\n",
    "print classification_report(y_test, result)\n",
    "print '*' * 50\n",
    "print confusion_matrix(y_test, result)"
   ]
  },
  {
   "cell_type": "markdown",
   "metadata": {},
   "source": [
    "+ without 'josa', punctuations, 'determiner', 'url'"
   ]
  },
  {
   "cell_type": "code",
   "execution_count": 5,
   "metadata": {
    "collapsed": false
   },
   "outputs": [
    {
     "name": "stdout",
     "output_type": "stream",
     "text": [
      "             precision    recall  f1-score   support\n",
      "\n",
      "          0       0.81      0.78      0.80       316\n",
      "          1       0.80      0.83      0.81       327\n",
      "\n",
      "avg / total       0.80      0.80      0.80       643\n",
      "\n",
      "**************************************************\n",
      "[[247  69]\n",
      " [ 57 270]]\n"
     ]
    }
   ],
   "source": [
    "df_frozen = pd.read_csv('./files/seodam_together_notags0323.csv').drop(['Unnamed: 0'], axis=1)\n",
    "df_unfrozen = pd.read_csv('./files/unfrozen2_3500.csv').drop(['Unnamed: 0'], axis=1)[:3213]\n",
    "\n",
    "unfrozen = np.array(df_unfrozen['text2'])\n",
    "frozen = np.array(df_frozen['text'])\n",
    "seodam_x = np.append(unfrozen, frozen)\n",
    "seodam_y = np.append(np.zeros(3213, dtype=int), np.ones(3213, dtype=int))\n",
    "\n",
    "X_train, X_test, y_train, y_test = train_test_split(seodam_x, seodam_y, test_size=0.1, random_state=2)\n",
    "\n",
    "tagger = Twitter()\n",
    "def tokenize(doc):\n",
    "    token_list = []\n",
    "    for t in tagger.pos(doc, norm=True, stem=True):\n",
    "        if t[1] != 'Josa' and t[1] != 'Punctuation' and t[1] != 'Determiner' and t[1] != 'URL' :\n",
    "            token_list.append('/'.join(t))\n",
    "    return token_list\n",
    "\n",
    "vect = CountVectorizer(tokenizer=tokenize)\n",
    "vect.fit(X_train)\n",
    "X_train = vect.transform(X_train)\n",
    "X_test = vect.transform(X_test)\n",
    "\n",
    "clf = MultinomialNB()\n",
    "clf.fit(X_train, y_train)\n",
    "\n",
    "result = clf.predict(X_test)\n",
    "\n",
    "print classification_report(y_test, result)\n",
    "print '*' * 50\n",
    "print confusion_matrix(y_test, result)"
   ]
  },
  {
   "cell_type": "markdown",
   "metadata": {},
   "source": [
    "+ using stop_words"
   ]
  },
  {
   "cell_type": "code",
   "execution_count": 7,
   "metadata": {
    "collapsed": false,
    "scrolled": true
   },
   "outputs": [
    {
     "name": "stdout",
     "output_type": "stream",
     "text": [
      "             precision    recall  f1-score   support\n",
      "\n",
      "          0       0.81      0.79      0.80       316\n",
      "          1       0.80      0.82      0.81       327\n",
      "\n",
      "avg / total       0.80      0.80      0.80       643\n",
      "\n",
      "**************************************************\n",
      "[[250  66]\n",
      " [ 60 267]]\n"
     ]
    }
   ],
   "source": [
    "df_frozen = pd.read_csv('./files/seodam_together_notags0323.csv').drop(['Unnamed: 0'], axis=1)\n",
    "df_unfrozen = pd.read_csv('./files/unfrozen2_3500.csv').drop(['Unnamed: 0'], axis=1)[:3213]\n",
    "\n",
    "unfrozen = np.array(df_unfrozen['text2'])\n",
    "frozen = np.array(df_frozen['text'])\n",
    "seodam_x = np.append(unfrozen, frozen)\n",
    "seodam_y = np.append(np.zeros(3213, dtype=int), np.ones(3213, dtype=int))\n",
    "\n",
    "X_train, X_test, y_train, y_test = train_test_split(seodam_x, seodam_y, test_size=0.1, random_state=2)\n",
    "\n",
    "with open('stopwords.txt', 'r') as reader :\n",
    "    stop_words0 = reader.readlines()\n",
    "stop_words = stop_words0[0].split(',')\n",
    "\n",
    "stop_words2 = []\n",
    "for words in stop_words:\n",
    "    stop_words2.append(words.decode('utf-8'))\n",
    "\n",
    "tagger = Twitter()\n",
    "def tokenize(doc):\n",
    "    token_list = []\n",
    "    for t in tagger.pos(doc, norm=True, stem=True):\n",
    "        if t[1] != 'Josa' and t[1] != 'Punctuation' and t[1] != 'Determiner' and t[1] != 'URL' :\n",
    "            token_list.append('/'.join(t))\n",
    "    return token_list\n",
    "\n",
    "vect = CountVectorizer(tokenizer=tokenize, stop_words=stop_words2[:15])\n",
    "vect.fit(X_train)\n",
    "X_train = vect.transform(X_train)\n",
    "X_test = vect.transform(X_test)\n",
    "\n",
    "clf = MultinomialNB()\n",
    "clf.fit(X_train, y_train)\n",
    "\n",
    "result = clf.predict(X_test)\n",
    "\n",
    "print classification_report(y_test, result)\n",
    "print '*' * 50\n",
    "print confusion_matrix(y_test, result)"
   ]
  },
  {
   "cell_type": "markdown",
   "metadata": {},
   "source": [
    "+ using Tfidf(with stop words)"
   ]
  },
  {
   "cell_type": "code",
   "execution_count": 6,
   "metadata": {
    "collapsed": false
   },
   "outputs": [
    {
     "name": "stdout",
     "output_type": "stream",
     "text": [
      "             precision    recall  f1-score   support\n",
      "\n",
      "          0       0.78      0.86      0.82       316\n",
      "          1       0.85      0.76      0.81       327\n",
      "\n",
      "avg / total       0.82      0.81      0.81       643\n",
      "\n",
      "**************************************************\n",
      "[[273  43]\n",
      " [ 77 250]]\n"
     ]
    }
   ],
   "source": [
    "df_frozen = pd.read_csv('./files/seodam_together_notags0323.csv').drop(['Unnamed: 0'], axis=1)\n",
    "df_unfrozen = pd.read_csv('./files/unfrozen2_3500.csv').drop(['Unnamed: 0'], axis=1)[:3213]\n",
    "\n",
    "unfrozen = np.array(df_unfrozen['text2'])\n",
    "frozen = np.array(df_frozen['text'])\n",
    "seodam_x = np.append(unfrozen, frozen)\n",
    "seodam_y = np.append(np.zeros(3213, dtype=int), np.ones(3213, dtype=int))\n",
    "\n",
    "X_train, X_test, y_train, y_test = train_test_split(seodam_x, seodam_y, test_size=0.1, random_state=2)\n",
    "\n",
    "with open('stopwords.txt', 'r') as reader :\n",
    "    stop_words0 = reader.readlines()\n",
    "stop_words = stop_words0[0].split(',')\n",
    "\n",
    "stop_words2 = []\n",
    "for words in stop_words:\n",
    "    stop_words2.append(words.decode('utf-8'))\n",
    "\n",
    "tagger = Twitter()\n",
    "def tokenize(doc):\n",
    "    token_list = []\n",
    "    for t in tagger.pos(doc, norm=True, stem=True):\n",
    "        if t[1] != 'Josa' and t[1] != 'Punctuation' and t[1] != 'Determiner' and t[1] != 'URL' :\n",
    "            token_list.append('/'.join(t))\n",
    "    return token_list\n",
    "\n",
    "tfidv = TfidfVectorizer(tokenizer=tokenize, stop_words=stop_words2[:15])\n",
    "X_train = tfidv.fit_transform(X_train)\n",
    "X_test = tfidv.transform(X_test)\n",
    "\n",
    "clf = MultinomialNB()\n",
    "clf.fit(X_train, y_train)\n",
    "\n",
    "result = clf.predict(X_test)\n",
    "\n",
    "print classification_report(y_test, result)\n",
    "print '*' * 50\n",
    "print confusion_matrix(y_test, result)"
   ]
  }
 ],
 "metadata": {
  "kernelspec": {
   "display_name": "Python 2",
   "language": "python",
   "name": "python2"
  },
  "language_info": {
   "codemirror_mode": {
    "name": "ipython",
    "version": 2
   },
   "file_extension": ".py",
   "mimetype": "text/x-python",
   "name": "python",
   "nbconvert_exporter": "python",
   "pygments_lexer": "ipython2",
   "version": "2.7.13"
  }
 },
 "nbformat": 4,
 "nbformat_minor": 2
}
